{
  "nbformat": 4,
  "nbformat_minor": 0,
  "metadata": {
    "colab": {
      "name": "predict_health_costs_with_regression.ipynb",
      "provenance": [],
      "collapsed_sections": [],
      "include_colab_link": true
    },
    "kernelspec": {
      "display_name": "Python 3",
      "name": "python3"
    }
  },
  "cells": [
    {
      "cell_type": "markdown",
      "metadata": {
        "id": "view-in-github",
        "colab_type": "text"
      },
      "source": [
        "<a href=\"https://colab.research.google.com/github/jedkk/Machine-Learning/blob/main/predict_health_costs_with_regression.ipynb\" target=\"_parent\"><img src=\"https://colab.research.google.com/assets/colab-badge.svg\" alt=\"Open In Colab\"/></a>"
      ]
    },
    {
      "cell_type": "markdown",
      "metadata": {
        "id": "M9TX15KOkPBV"
      },
      "source": [
        "Predict healthcare costs using a regression algorithm, given a dataset that contains information about different people including their healthcare costs. Use the data to predict healthcare costs based on new data.\n",
        "\n",
        "Make sure to convert categorical data to numbers. Use 80% of the data as the `train_dataset` and 20% of the data as the `test_dataset`.\n",
        "\n",
        "`pop` off the \"expenses\" column from these datasets to create new datasets called `train_labels` and `test_labels`. Use these labels when training your model.\n",
        "\n",
        "Create a model and train it with the `train_dataset`. Run the final cell in this notebook to check your model. The final cell will use the unseen `test_dataset` to check how well the model generalizes.\n",
        "\n",
        "To pass the challenge, `model.evaluate` must return a Mean Absolute Error of under 3500. This means it predicts health care costs correctly within $3500.\n",
        "\n",
        "The final cell will also predict expenses using the `test_dataset` and graph the results."
      ]
    },
    {
      "cell_type": "code",
      "metadata": {
        "id": "1rRo8oNqZ-Rj",
        "colab": {
          "base_uri": "https://localhost:8080/"
        },
        "outputId": "93a8b63b-1905-4c2d-8f0e-f2eb5ecf651e"
      },
      "source": [
        "# Import libraries. You may or may not use all of these.\n",
        "!pip install -q git+https://github.com/tensorflow/docs\n",
        "import matplotlib.pyplot as plt\n",
        "import numpy as np\n",
        "import pandas as pd\n",
        "\n",
        "try:\n",
        "  # %tensorflow_version only exists in Colab.\n",
        "  %tensorflow_version 2.x\n",
        "except Exception:\n",
        "  pass\n",
        "import tensorflow as tf\n",
        "\n",
        "from tensorflow import keras\n",
        "from tensorflow.keras import layers\n",
        "from tensorflow.keras.layers.experimental import preprocessing\n",
        "\n",
        "import tensorflow_docs as tfdocs\n",
        "import tensorflow_docs.plots\n",
        "import tensorflow_docs.modeling"
      ],
      "execution_count": null,
      "outputs": [
        {
          "output_type": "stream",
          "text": [
            "\u001b[?25l\r\u001b[K     |▎                               | 10kB 19.0MB/s eta 0:00:01\r\u001b[K     |▋                               | 20kB 23.4MB/s eta 0:00:01\r\u001b[K     |█                               | 30kB 24.5MB/s eta 0:00:01\r\u001b[K     |█▎                              | 40kB 26.6MB/s eta 0:00:01\r\u001b[K     |█▋                              | 51kB 28.8MB/s eta 0:00:01\r\u001b[K     |██                              | 61kB 30.7MB/s eta 0:00:01\r\u001b[K     |██▎                             | 71kB 32.1MB/s eta 0:00:01\r\u001b[K     |██▋                             | 81kB 32.5MB/s eta 0:00:01\r\u001b[K     |██▉                             | 92kB 33.5MB/s eta 0:00:01\r\u001b[K     |███▏                            | 102kB 34.6MB/s eta 0:00:01\r\u001b[K     |███▌                            | 112kB 34.6MB/s eta 0:00:01\r\u001b[K     |███▉                            | 122kB 34.6MB/s eta 0:00:01\r\u001b[K     |████▏                           | 133kB 34.6MB/s eta 0:00:01\r\u001b[K     |████▌                           | 143kB 34.6MB/s eta 0:00:01\r\u001b[K     |████▉                           | 153kB 34.6MB/s eta 0:00:01\r\u001b[K     |█████▏                          | 163kB 34.6MB/s eta 0:00:01\r\u001b[K     |█████▌                          | 174kB 34.6MB/s eta 0:00:01\r\u001b[K     |█████▊                          | 184kB 34.6MB/s eta 0:00:01\r\u001b[K     |██████                          | 194kB 34.6MB/s eta 0:00:01\r\u001b[K     |██████▍                         | 204kB 34.6MB/s eta 0:00:01\r\u001b[K     |██████▊                         | 215kB 34.6MB/s eta 0:00:01\r\u001b[K     |███████                         | 225kB 34.6MB/s eta 0:00:01\r\u001b[K     |███████▍                        | 235kB 34.6MB/s eta 0:00:01\r\u001b[K     |███████▊                        | 245kB 34.6MB/s eta 0:00:01\r\u001b[K     |████████                        | 256kB 34.6MB/s eta 0:00:01\r\u001b[K     |████████▎                       | 266kB 34.6MB/s eta 0:00:01\r\u001b[K     |████████▋                       | 276kB 34.6MB/s eta 0:00:01\r\u001b[K     |█████████                       | 286kB 34.6MB/s eta 0:00:01\r\u001b[K     |█████████▎                      | 296kB 34.6MB/s eta 0:00:01\r\u001b[K     |█████████▋                      | 307kB 34.6MB/s eta 0:00:01\r\u001b[K     |██████████                      | 317kB 34.6MB/s eta 0:00:01\r\u001b[K     |██████████▎                     | 327kB 34.6MB/s eta 0:00:01\r\u001b[K     |██████████▋                     | 337kB 34.6MB/s eta 0:00:01\r\u001b[K     |███████████                     | 348kB 34.6MB/s eta 0:00:01\r\u001b[K     |███████████▏                    | 358kB 34.6MB/s eta 0:00:01\r\u001b[K     |███████████▌                    | 368kB 34.6MB/s eta 0:00:01\r\u001b[K     |███████████▉                    | 378kB 34.6MB/s eta 0:00:01\r\u001b[K     |████████████▏                   | 389kB 34.6MB/s eta 0:00:01\r\u001b[K     |████████████▌                   | 399kB 34.6MB/s eta 0:00:01\r\u001b[K     |████████████▉                   | 409kB 34.6MB/s eta 0:00:01\r\u001b[K     |█████████████▏                  | 419kB 34.6MB/s eta 0:00:01\r\u001b[K     |█████████████▌                  | 430kB 34.6MB/s eta 0:00:01\r\u001b[K     |█████████████▊                  | 440kB 34.6MB/s eta 0:00:01\r\u001b[K     |██████████████                  | 450kB 34.6MB/s eta 0:00:01\r\u001b[K     |██████████████▍                 | 460kB 34.6MB/s eta 0:00:01\r\u001b[K     |██████████████▊                 | 471kB 34.6MB/s eta 0:00:01\r\u001b[K     |███████████████                 | 481kB 34.6MB/s eta 0:00:01\r\u001b[K     |███████████████▍                | 491kB 34.6MB/s eta 0:00:01\r\u001b[K     |███████████████▊                | 501kB 34.6MB/s eta 0:00:01\r\u001b[K     |████████████████                | 512kB 34.6MB/s eta 0:00:01\r\u001b[K     |████████████████▍               | 522kB 34.6MB/s eta 0:00:01\r\u001b[K     |████████████████▋               | 532kB 34.6MB/s eta 0:00:01\r\u001b[K     |█████████████████               | 542kB 34.6MB/s eta 0:00:01\r\u001b[K     |█████████████████▎              | 552kB 34.6MB/s eta 0:00:01\r\u001b[K     |█████████████████▋              | 563kB 34.6MB/s eta 0:00:01\r\u001b[K     |██████████████████              | 573kB 34.6MB/s eta 0:00:01\r\u001b[K     |██████████████████▎             | 583kB 34.6MB/s eta 0:00:01\r\u001b[K     |██████████████████▋             | 593kB 34.6MB/s eta 0:00:01\r\u001b[K     |███████████████████             | 604kB 34.6MB/s eta 0:00:01\r\u001b[K     |███████████████████▎            | 614kB 34.6MB/s eta 0:00:01\r\u001b[K     |███████████████████▌            | 624kB 34.6MB/s eta 0:00:01\r\u001b[K     |███████████████████▉            | 634kB 34.6MB/s eta 0:00:01\r\u001b[K     |████████████████████▏           | 645kB 34.6MB/s eta 0:00:01\r\u001b[K     |████████████████████▌           | 655kB 34.6MB/s eta 0:00:01\r\u001b[K     |████████████████████▉           | 665kB 34.6MB/s eta 0:00:01\r\u001b[K     |█████████████████████▏          | 675kB 34.6MB/s eta 0:00:01\r\u001b[K     |█████████████████████▌          | 686kB 34.6MB/s eta 0:00:01\r\u001b[K     |█████████████████████▉          | 696kB 34.6MB/s eta 0:00:01\r\u001b[K     |██████████████████████          | 706kB 34.6MB/s eta 0:00:01\r\u001b[K     |██████████████████████▍         | 716kB 34.6MB/s eta 0:00:01\r\u001b[K     |██████████████████████▊         | 727kB 34.6MB/s eta 0:00:01\r\u001b[K     |███████████████████████         | 737kB 34.6MB/s eta 0:00:01\r\u001b[K     |███████████████████████▍        | 747kB 34.6MB/s eta 0:00:01\r\u001b[K     |███████████████████████▊        | 757kB 34.6MB/s eta 0:00:01\r\u001b[K     |████████████████████████        | 768kB 34.6MB/s eta 0:00:01\r\u001b[K     |████████████████████████▍       | 778kB 34.6MB/s eta 0:00:01\r\u001b[K     |████████████████████████▊       | 788kB 34.6MB/s eta 0:00:01\r\u001b[K     |█████████████████████████       | 798kB 34.6MB/s eta 0:00:01\r\u001b[K     |█████████████████████████▎      | 808kB 34.6MB/s eta 0:00:01\r\u001b[K     |█████████████████████████▋      | 819kB 34.6MB/s eta 0:00:01\r\u001b[K     |██████████████████████████      | 829kB 34.6MB/s eta 0:00:01\r\u001b[K     |██████████████████████████▎     | 839kB 34.6MB/s eta 0:00:01\r\u001b[K     |██████████████████████████▋     | 849kB 34.6MB/s eta 0:00:01\r\u001b[K     |███████████████████████████     | 860kB 34.6MB/s eta 0:00:01\r\u001b[K     |███████████████████████████▎    | 870kB 34.6MB/s eta 0:00:01\r\u001b[K     |███████████████████████████▌    | 880kB 34.6MB/s eta 0:00:01\r\u001b[K     |███████████████████████████▉    | 890kB 34.6MB/s eta 0:00:01\r\u001b[K     |████████████████████████████▏   | 901kB 34.6MB/s eta 0:00:01\r\u001b[K     |████████████████████████████▌   | 911kB 34.6MB/s eta 0:00:01\r\u001b[K     |████████████████████████████▉   | 921kB 34.6MB/s eta 0:00:01\r\u001b[K     |█████████████████████████████▏  | 931kB 34.6MB/s eta 0:00:01\r\u001b[K     |█████████████████████████████▌  | 942kB 34.6MB/s eta 0:00:01\r\u001b[K     |█████████████████████████████▉  | 952kB 34.6MB/s eta 0:00:01\r\u001b[K     |██████████████████████████████▏ | 962kB 34.6MB/s eta 0:00:01\r\u001b[K     |██████████████████████████████▍ | 972kB 34.6MB/s eta 0:00:01\r\u001b[K     |██████████████████████████████▊ | 983kB 34.6MB/s eta 0:00:01\r\u001b[K     |███████████████████████████████ | 993kB 34.6MB/s eta 0:00:01\r\u001b[K     |███████████████████████████████▍| 1.0MB 34.6MB/s eta 0:00:01\r\u001b[K     |███████████████████████████████▊| 1.0MB 34.6MB/s eta 0:00:01\r\u001b[K     |████████████████████████████████| 1.0MB 34.6MB/s \n",
            "\u001b[?25h  Building wheel for tensorflow-docs (setup.py) ... \u001b[?25l\u001b[?25hdone\n"
          ],
          "name": "stdout"
        }
      ]
    },
    {
      "cell_type": "code",
      "metadata": {
        "id": "CiX2FI4gZtTt",
        "colab": {
          "base_uri": "https://localhost:8080/",
          "height": 380
        },
        "outputId": "f43215f3-b06b-464b-813c-3abd9a7992a6"
      },
      "source": [
        "# Import data\n",
        "!wget https://cdn.freecodecamp.org/project-data/health-costs/insurance.csv\n",
        "dataset = pd.read_csv('insurance.csv')\n",
        "dataset.tail()"
      ],
      "execution_count": null,
      "outputs": [
        {
          "output_type": "stream",
          "text": [
            "--2021-05-27 11:56:16--  https://cdn.freecodecamp.org/project-data/health-costs/insurance.csv\n",
            "Resolving cdn.freecodecamp.org (cdn.freecodecamp.org)... 172.67.70.149, 104.26.2.33, 104.26.3.33, ...\n",
            "Connecting to cdn.freecodecamp.org (cdn.freecodecamp.org)|172.67.70.149|:443... connected.\n",
            "HTTP request sent, awaiting response... 200 OK\n",
            "Length: 50264 (49K) [text/csv]\n",
            "Saving to: ‘insurance.csv’\n",
            "\n",
            "\rinsurance.csv         0%[                    ]       0  --.-KB/s               \rinsurance.csv       100%[===================>]  49.09K  --.-KB/s    in 0.001s  \n",
            "\n",
            "2021-05-27 11:56:16 (54.1 MB/s) - ‘insurance.csv’ saved [50264/50264]\n",
            "\n"
          ],
          "name": "stdout"
        },
        {
          "output_type": "execute_result",
          "data": {
            "text/html": [
              "<div>\n",
              "<style scoped>\n",
              "    .dataframe tbody tr th:only-of-type {\n",
              "        vertical-align: middle;\n",
              "    }\n",
              "\n",
              "    .dataframe tbody tr th {\n",
              "        vertical-align: top;\n",
              "    }\n",
              "\n",
              "    .dataframe thead th {\n",
              "        text-align: right;\n",
              "    }\n",
              "</style>\n",
              "<table border=\"1\" class=\"dataframe\">\n",
              "  <thead>\n",
              "    <tr style=\"text-align: right;\">\n",
              "      <th></th>\n",
              "      <th>age</th>\n",
              "      <th>sex</th>\n",
              "      <th>bmi</th>\n",
              "      <th>children</th>\n",
              "      <th>smoker</th>\n",
              "      <th>region</th>\n",
              "      <th>expenses</th>\n",
              "    </tr>\n",
              "  </thead>\n",
              "  <tbody>\n",
              "    <tr>\n",
              "      <th>1333</th>\n",
              "      <td>50</td>\n",
              "      <td>male</td>\n",
              "      <td>31.0</td>\n",
              "      <td>3</td>\n",
              "      <td>no</td>\n",
              "      <td>northwest</td>\n",
              "      <td>10600.55</td>\n",
              "    </tr>\n",
              "    <tr>\n",
              "      <th>1334</th>\n",
              "      <td>18</td>\n",
              "      <td>female</td>\n",
              "      <td>31.9</td>\n",
              "      <td>0</td>\n",
              "      <td>no</td>\n",
              "      <td>northeast</td>\n",
              "      <td>2205.98</td>\n",
              "    </tr>\n",
              "    <tr>\n",
              "      <th>1335</th>\n",
              "      <td>18</td>\n",
              "      <td>female</td>\n",
              "      <td>36.9</td>\n",
              "      <td>0</td>\n",
              "      <td>no</td>\n",
              "      <td>southeast</td>\n",
              "      <td>1629.83</td>\n",
              "    </tr>\n",
              "    <tr>\n",
              "      <th>1336</th>\n",
              "      <td>21</td>\n",
              "      <td>female</td>\n",
              "      <td>25.8</td>\n",
              "      <td>0</td>\n",
              "      <td>no</td>\n",
              "      <td>southwest</td>\n",
              "      <td>2007.95</td>\n",
              "    </tr>\n",
              "    <tr>\n",
              "      <th>1337</th>\n",
              "      <td>61</td>\n",
              "      <td>female</td>\n",
              "      <td>29.1</td>\n",
              "      <td>0</td>\n",
              "      <td>yes</td>\n",
              "      <td>northwest</td>\n",
              "      <td>29141.36</td>\n",
              "    </tr>\n",
              "  </tbody>\n",
              "</table>\n",
              "</div>"
            ],
            "text/plain": [
              "      age     sex   bmi  children smoker     region  expenses\n",
              "1333   50    male  31.0         3     no  northwest  10600.55\n",
              "1334   18  female  31.9         0     no  northeast   2205.98\n",
              "1335   18  female  36.9         0     no  southeast   1629.83\n",
              "1336   21  female  25.8         0     no  southwest   2007.95\n",
              "1337   61  female  29.1         0    yes  northwest  29141.36"
            ]
          },
          "metadata": {
            "tags": []
          },
          "execution_count": 2
        }
      ]
    },
    {
      "cell_type": "code",
      "metadata": {
        "colab": {
          "base_uri": "https://localhost:8080/"
        },
        "id": "YL69CO1zELpQ",
        "outputId": "01f4586d-2710-45c6-bb3b-75c0d623c500"
      },
      "source": [
        "dataset.info()"
      ],
      "execution_count": null,
      "outputs": [
        {
          "output_type": "stream",
          "text": [
            "<class 'pandas.core.frame.DataFrame'>\n",
            "RangeIndex: 1338 entries, 0 to 1337\n",
            "Data columns (total 7 columns):\n",
            " #   Column    Non-Null Count  Dtype  \n",
            "---  ------    --------------  -----  \n",
            " 0   age       1338 non-null   int64  \n",
            " 1   sex       1338 non-null   object \n",
            " 2   bmi       1338 non-null   float64\n",
            " 3   children  1338 non-null   int64  \n",
            " 4   smoker    1338 non-null   object \n",
            " 5   region    1338 non-null   object \n",
            " 6   expenses  1338 non-null   float64\n",
            "dtypes: float64(2), int64(2), object(3)\n",
            "memory usage: 73.3+ KB\n"
          ],
          "name": "stdout"
        }
      ]
    },
    {
      "cell_type": "code",
      "metadata": {
        "colab": {
          "base_uri": "https://localhost:8080/"
        },
        "id": "16UeN94i6fhY",
        "outputId": "c8c24bbb-512e-4e97-b24f-790a3f70b7b2"
      },
      "source": [
        "dataset.isna().sum()"
      ],
      "execution_count": null,
      "outputs": [
        {
          "output_type": "execute_result",
          "data": {
            "text/plain": [
              "age         0\n",
              "sex         0\n",
              "bmi         0\n",
              "children    0\n",
              "smoker      0\n",
              "region      0\n",
              "expenses    0\n",
              "dtype: int64"
            ]
          },
          "metadata": {
            "tags": []
          },
          "execution_count": 119
        }
      ]
    },
    {
      "cell_type": "code",
      "metadata": {
        "colab": {
          "base_uri": "https://localhost:8080/"
        },
        "id": "J8oZyBFw_--H",
        "outputId": "62015a4c-9512-4012-efae-89da67326292"
      },
      "source": [
        "for var in ['sex', 'smoker', 'region']:\n",
        "  print(dataset[var].describe())"
      ],
      "execution_count": null,
      "outputs": [
        {
          "output_type": "stream",
          "text": [
            "count     1338\n",
            "unique       2\n",
            "top       male\n",
            "freq       676\n",
            "Name: sex, dtype: object\n",
            "count     1338\n",
            "unique       2\n",
            "top         no\n",
            "freq      1064\n",
            "Name: smoker, dtype: object\n",
            "count          1338\n",
            "unique            4\n",
            "top       southeast\n",
            "freq            364\n",
            "Name: region, dtype: object\n"
          ],
          "name": "stdout"
        }
      ]
    },
    {
      "cell_type": "code",
      "metadata": {
        "colab": {
          "base_uri": "https://localhost:8080/"
        },
        "id": "iWK_Rd6d_6fF",
        "outputId": "eed2d173-0968-4e2f-ff8a-6b94b791df93"
      },
      "source": [
        "dataset['region'].value_counts()"
      ],
      "execution_count": null,
      "outputs": [
        {
          "output_type": "execute_result",
          "data": {
            "text/plain": [
              "southeast    364\n",
              "southwest    325\n",
              "northwest    325\n",
              "northeast    324\n",
              "Name: region, dtype: int64"
            ]
          },
          "metadata": {
            "tags": []
          },
          "execution_count": 121
        }
      ]
    },
    {
      "cell_type": "code",
      "metadata": {
        "colab": {
          "base_uri": "https://localhost:8080/",
          "height": 195
        },
        "id": "IKen2jgkAemI",
        "outputId": "8ed04fef-7691-4ae8-a146-4d4496fd9059"
      },
      "source": [
        "dataset['sex'] = dataset['sex'].astype('category')\n",
        "dataset['sex'] = dataset['sex'].cat.codes\n",
        "dataset['smoker'] = dataset['smoker'].astype('category')\n",
        "dataset['smoker'] = dataset['smoker'].cat.codes\n",
        "# or by np.where\n",
        "#dataset['sex'] = np.where(dataset['sex'] == 'female', 1, 0)\n",
        "#dataset['smoker'] = np.where(dataset['smoker'] == 'yes', 1, 0)\n",
        "dataset.tail()"
      ],
      "execution_count": null,
      "outputs": [
        {
          "output_type": "execute_result",
          "data": {
            "text/html": [
              "<div>\n",
              "<style scoped>\n",
              "    .dataframe tbody tr th:only-of-type {\n",
              "        vertical-align: middle;\n",
              "    }\n",
              "\n",
              "    .dataframe tbody tr th {\n",
              "        vertical-align: top;\n",
              "    }\n",
              "\n",
              "    .dataframe thead th {\n",
              "        text-align: right;\n",
              "    }\n",
              "</style>\n",
              "<table border=\"1\" class=\"dataframe\">\n",
              "  <thead>\n",
              "    <tr style=\"text-align: right;\">\n",
              "      <th></th>\n",
              "      <th>age</th>\n",
              "      <th>sex</th>\n",
              "      <th>bmi</th>\n",
              "      <th>children</th>\n",
              "      <th>smoker</th>\n",
              "      <th>region</th>\n",
              "      <th>expenses</th>\n",
              "    </tr>\n",
              "  </thead>\n",
              "  <tbody>\n",
              "    <tr>\n",
              "      <th>1333</th>\n",
              "      <td>50</td>\n",
              "      <td>1</td>\n",
              "      <td>31.0</td>\n",
              "      <td>3</td>\n",
              "      <td>0</td>\n",
              "      <td>northwest</td>\n",
              "      <td>10600.55</td>\n",
              "    </tr>\n",
              "    <tr>\n",
              "      <th>1334</th>\n",
              "      <td>18</td>\n",
              "      <td>0</td>\n",
              "      <td>31.9</td>\n",
              "      <td>0</td>\n",
              "      <td>0</td>\n",
              "      <td>northeast</td>\n",
              "      <td>2205.98</td>\n",
              "    </tr>\n",
              "    <tr>\n",
              "      <th>1335</th>\n",
              "      <td>18</td>\n",
              "      <td>0</td>\n",
              "      <td>36.9</td>\n",
              "      <td>0</td>\n",
              "      <td>0</td>\n",
              "      <td>southeast</td>\n",
              "      <td>1629.83</td>\n",
              "    </tr>\n",
              "    <tr>\n",
              "      <th>1336</th>\n",
              "      <td>21</td>\n",
              "      <td>0</td>\n",
              "      <td>25.8</td>\n",
              "      <td>0</td>\n",
              "      <td>0</td>\n",
              "      <td>southwest</td>\n",
              "      <td>2007.95</td>\n",
              "    </tr>\n",
              "    <tr>\n",
              "      <th>1337</th>\n",
              "      <td>61</td>\n",
              "      <td>0</td>\n",
              "      <td>29.1</td>\n",
              "      <td>0</td>\n",
              "      <td>1</td>\n",
              "      <td>northwest</td>\n",
              "      <td>29141.36</td>\n",
              "    </tr>\n",
              "  </tbody>\n",
              "</table>\n",
              "</div>"
            ],
            "text/plain": [
              "      age  sex   bmi  children  smoker     region  expenses\n",
              "1333   50    1  31.0         3       0  northwest  10600.55\n",
              "1334   18    0  31.9         0       0  northeast   2205.98\n",
              "1335   18    0  36.9         0       0  southeast   1629.83\n",
              "1336   21    0  25.8         0       0  southwest   2007.95\n",
              "1337   61    0  29.1         0       1  northwest  29141.36"
            ]
          },
          "metadata": {
            "tags": []
          },
          "execution_count": 4
        }
      ]
    },
    {
      "cell_type": "code",
      "metadata": {
        "colab": {
          "base_uri": "https://localhost:8080/",
          "height": 195
        },
        "id": "r_AKldKXFDfM",
        "outputId": "4c64219f-ea4d-4df4-947c-56291f39880e"
      },
      "source": [
        "dataset['region'] = dataset['region'].astype('category')\n",
        "dataset['region'] = dataset['region'].cat.codes\n",
        "# or by using dummy variables\n",
        "#dataset['region'] = dataset['region'].map({'northeast': 'northeast', 'northwest': 'northwest', 'southwest': 'southwest', 'southeast': 'southeast'})\n",
        "#dataset = pd.get_dummies(dataset, columns=['region'], prefix='', prefix_sep='')\n",
        "dataset.tail()"
      ],
      "execution_count": null,
      "outputs": [
        {
          "output_type": "execute_result",
          "data": {
            "text/html": [
              "<div>\n",
              "<style scoped>\n",
              "    .dataframe tbody tr th:only-of-type {\n",
              "        vertical-align: middle;\n",
              "    }\n",
              "\n",
              "    .dataframe tbody tr th {\n",
              "        vertical-align: top;\n",
              "    }\n",
              "\n",
              "    .dataframe thead th {\n",
              "        text-align: right;\n",
              "    }\n",
              "</style>\n",
              "<table border=\"1\" class=\"dataframe\">\n",
              "  <thead>\n",
              "    <tr style=\"text-align: right;\">\n",
              "      <th></th>\n",
              "      <th>age</th>\n",
              "      <th>sex</th>\n",
              "      <th>bmi</th>\n",
              "      <th>children</th>\n",
              "      <th>smoker</th>\n",
              "      <th>region</th>\n",
              "      <th>expenses</th>\n",
              "    </tr>\n",
              "  </thead>\n",
              "  <tbody>\n",
              "    <tr>\n",
              "      <th>1333</th>\n",
              "      <td>50</td>\n",
              "      <td>1</td>\n",
              "      <td>31.0</td>\n",
              "      <td>3</td>\n",
              "      <td>0</td>\n",
              "      <td>1</td>\n",
              "      <td>10600.55</td>\n",
              "    </tr>\n",
              "    <tr>\n",
              "      <th>1334</th>\n",
              "      <td>18</td>\n",
              "      <td>0</td>\n",
              "      <td>31.9</td>\n",
              "      <td>0</td>\n",
              "      <td>0</td>\n",
              "      <td>0</td>\n",
              "      <td>2205.98</td>\n",
              "    </tr>\n",
              "    <tr>\n",
              "      <th>1335</th>\n",
              "      <td>18</td>\n",
              "      <td>0</td>\n",
              "      <td>36.9</td>\n",
              "      <td>0</td>\n",
              "      <td>0</td>\n",
              "      <td>2</td>\n",
              "      <td>1629.83</td>\n",
              "    </tr>\n",
              "    <tr>\n",
              "      <th>1336</th>\n",
              "      <td>21</td>\n",
              "      <td>0</td>\n",
              "      <td>25.8</td>\n",
              "      <td>0</td>\n",
              "      <td>0</td>\n",
              "      <td>3</td>\n",
              "      <td>2007.95</td>\n",
              "    </tr>\n",
              "    <tr>\n",
              "      <th>1337</th>\n",
              "      <td>61</td>\n",
              "      <td>0</td>\n",
              "      <td>29.1</td>\n",
              "      <td>0</td>\n",
              "      <td>1</td>\n",
              "      <td>1</td>\n",
              "      <td>29141.36</td>\n",
              "    </tr>\n",
              "  </tbody>\n",
              "</table>\n",
              "</div>"
            ],
            "text/plain": [
              "      age  sex   bmi  children  smoker  region  expenses\n",
              "1333   50    1  31.0         3       0       1  10600.55\n",
              "1334   18    0  31.9         0       0       0   2205.98\n",
              "1335   18    0  36.9         0       0       2   1629.83\n",
              "1336   21    0  25.8         0       0       3   2007.95\n",
              "1337   61    0  29.1         0       1       1  29141.36"
            ]
          },
          "metadata": {
            "tags": []
          },
          "execution_count": 5
        }
      ]
    },
    {
      "cell_type": "code",
      "metadata": {
        "id": "la_wdaMUqQ_c"
      },
      "source": [
        "# required split = 80/20\n",
        "train_dataset = dataset.sample(frac=0.8, random_state=0) # features\n",
        "test_dataset = dataset.drop(train_dataset.index)\n",
        "train_labels, test_labels = train_dataset.pop('expenses'), test_dataset.pop('expenses') # labels"
      ],
      "execution_count": null,
      "outputs": []
    },
    {
      "cell_type": "code",
      "metadata": {
        "colab": {
          "base_uri": "https://localhost:8080/",
          "height": 195
        },
        "id": "1w8LMhpo0-zR",
        "outputId": "42a04422-ce11-4eaa-dfc6-5c29c489ef24"
      },
      "source": [
        "test_dataset.head()"
      ],
      "execution_count": null,
      "outputs": [
        {
          "output_type": "execute_result",
          "data": {
            "text/html": [
              "<div>\n",
              "<style scoped>\n",
              "    .dataframe tbody tr th:only-of-type {\n",
              "        vertical-align: middle;\n",
              "    }\n",
              "\n",
              "    .dataframe tbody tr th {\n",
              "        vertical-align: top;\n",
              "    }\n",
              "\n",
              "    .dataframe thead th {\n",
              "        text-align: right;\n",
              "    }\n",
              "</style>\n",
              "<table border=\"1\" class=\"dataframe\">\n",
              "  <thead>\n",
              "    <tr style=\"text-align: right;\">\n",
              "      <th></th>\n",
              "      <th>age</th>\n",
              "      <th>sex</th>\n",
              "      <th>bmi</th>\n",
              "      <th>children</th>\n",
              "      <th>smoker</th>\n",
              "      <th>region</th>\n",
              "    </tr>\n",
              "  </thead>\n",
              "  <tbody>\n",
              "    <tr>\n",
              "      <th>11</th>\n",
              "      <td>62</td>\n",
              "      <td>0</td>\n",
              "      <td>26.3</td>\n",
              "      <td>0</td>\n",
              "      <td>1</td>\n",
              "      <td>2</td>\n",
              "    </tr>\n",
              "    <tr>\n",
              "      <th>23</th>\n",
              "      <td>34</td>\n",
              "      <td>0</td>\n",
              "      <td>31.9</td>\n",
              "      <td>1</td>\n",
              "      <td>1</td>\n",
              "      <td>0</td>\n",
              "    </tr>\n",
              "    <tr>\n",
              "      <th>24</th>\n",
              "      <td>37</td>\n",
              "      <td>1</td>\n",
              "      <td>28.0</td>\n",
              "      <td>2</td>\n",
              "      <td>0</td>\n",
              "      <td>1</td>\n",
              "    </tr>\n",
              "    <tr>\n",
              "      <th>25</th>\n",
              "      <td>59</td>\n",
              "      <td>0</td>\n",
              "      <td>27.7</td>\n",
              "      <td>3</td>\n",
              "      <td>0</td>\n",
              "      <td>2</td>\n",
              "    </tr>\n",
              "    <tr>\n",
              "      <th>28</th>\n",
              "      <td>23</td>\n",
              "      <td>1</td>\n",
              "      <td>17.4</td>\n",
              "      <td>1</td>\n",
              "      <td>0</td>\n",
              "      <td>1</td>\n",
              "    </tr>\n",
              "  </tbody>\n",
              "</table>\n",
              "</div>"
            ],
            "text/plain": [
              "    age  sex   bmi  children  smoker  region\n",
              "11   62    0  26.3         0       1       2\n",
              "23   34    0  31.9         1       1       0\n",
              "24   37    1  28.0         2       0       1\n",
              "25   59    0  27.7         3       0       2\n",
              "28   23    1  17.4         1       0       1"
            ]
          },
          "metadata": {
            "tags": []
          },
          "execution_count": 126
        }
      ]
    },
    {
      "cell_type": "code",
      "metadata": {
        "id": "PCi2bgRK6YWv"
      },
      "source": [
        "normalizer = preprocessing.Normalization()\n",
        "normalizer.adapt(np.array(train_dataset))"
      ],
      "execution_count": null,
      "outputs": []
    },
    {
      "cell_type": "code",
      "metadata": {
        "id": "LcopvQh3X-kX",
        "colab": {
          "base_uri": "https://localhost:8080/"
        },
        "outputId": "076256e7-7440-4c66-b437-38394f723b33"
      },
      "source": [
        "model = keras.Sequential()\n",
        "model.add(normalizer)\n",
        "model.add(layers.Dense(64, input_dim=9, kernel_initializer='normal', activation='relu'))\n",
        "model.add(layers.Dense(64, activation='relu'))\n",
        "model.add(layers.Dense(1, activation='linear'))\n",
        "model.summary()"
      ],
      "execution_count": null,
      "outputs": [
        {
          "output_type": "stream",
          "text": [
            "Model: \"sequential_24\"\n",
            "_________________________________________________________________\n",
            "Layer (type)                 Output Shape              Param #   \n",
            "=================================================================\n",
            "normalization_2 (Normalizati (None, 6)                 13        \n",
            "_________________________________________________________________\n",
            "dense_72 (Dense)             (None, 64)                448       \n",
            "_________________________________________________________________\n",
            "dense_73 (Dense)             (None, 64)                4160      \n",
            "_________________________________________________________________\n",
            "dense_74 (Dense)             (None, 1)                 65        \n",
            "=================================================================\n",
            "Total params: 4,686\n",
            "Trainable params: 4,673\n",
            "Non-trainable params: 13\n",
            "_________________________________________________________________\n"
          ],
          "name": "stdout"
        }
      ]
    },
    {
      "cell_type": "code",
      "metadata": {
        "colab": {
          "base_uri": "https://localhost:8080/"
        },
        "id": "d-yZuYK3ILZ0",
        "outputId": "642396e5-0a36-4b69-dad8-be549e21f39e"
      },
      "source": [
        "model.compile(loss='mean_absolute_error', optimizer=tf.optimizers.Adam(learning_rate=0.1), metrics=['mae','mse'])\n",
        "history = model.fit(train_dataset, train_labels, epochs=100, verbose=1, validation_split=0.2)"
      ],
      "execution_count": null,
      "outputs": [
        {
          "output_type": "stream",
          "text": [
            "Epoch 1/100\n",
            "27/27 [==============================] - 1s 9ms/step - loss: 9307.5039 - mae: 9307.5039 - mse: 202844448.0000 - val_loss: 4576.7026 - val_mae: 4576.7026 - val_mse: 71687016.0000\n",
            "Epoch 2/100\n",
            "27/27 [==============================] - 0s 3ms/step - loss: 3482.4097 - mae: 3482.4097 - mse: 42197456.0000 - val_loss: 3513.5793 - val_mae: 3513.5793 - val_mse: 35494892.0000\n",
            "Epoch 3/100\n",
            "27/27 [==============================] - 0s 3ms/step - loss: 3104.3708 - mae: 3104.3708 - mse: 33462228.0000 - val_loss: 3073.5693 - val_mae: 3073.5693 - val_mse: 34786216.0000\n",
            "Epoch 4/100\n",
            "27/27 [==============================] - 0s 3ms/step - loss: 2792.7117 - mae: 2792.7117 - mse: 29722604.0000 - val_loss: 3108.6218 - val_mae: 3108.6218 - val_mse: 30751772.0000\n",
            "Epoch 5/100\n",
            "27/27 [==============================] - 0s 3ms/step - loss: 2515.0085 - mae: 2515.0085 - mse: 25221656.0000 - val_loss: 2662.1519 - val_mae: 2662.1519 - val_mse: 26482296.0000\n",
            "Epoch 6/100\n",
            "27/27 [==============================] - 0s 3ms/step - loss: 2386.5427 - mae: 2386.5427 - mse: 23907368.0000 - val_loss: 2505.1736 - val_mae: 2505.1736 - val_mse: 24693460.0000\n",
            "Epoch 7/100\n",
            "27/27 [==============================] - 0s 3ms/step - loss: 2256.1104 - mae: 2256.1104 - mse: 23403140.0000 - val_loss: 2413.3003 - val_mae: 2413.3003 - val_mse: 23979290.0000\n",
            "Epoch 8/100\n",
            "27/27 [==============================] - 0s 3ms/step - loss: 2202.8672 - mae: 2202.8672 - mse: 23127956.0000 - val_loss: 2384.5852 - val_mae: 2384.5852 - val_mse: 23591728.0000\n",
            "Epoch 9/100\n",
            "27/27 [==============================] - 0s 3ms/step - loss: 2137.0393 - mae: 2137.0393 - mse: 22845050.0000 - val_loss: 2248.5486 - val_mae: 2248.5486 - val_mse: 23119934.0000\n",
            "Epoch 10/100\n",
            "27/27 [==============================] - 0s 3ms/step - loss: 2078.7056 - mae: 2078.7056 - mse: 22552774.0000 - val_loss: 2340.0808 - val_mae: 2340.0808 - val_mse: 22951268.0000\n",
            "Epoch 11/100\n",
            "27/27 [==============================] - 0s 3ms/step - loss: 2094.0918 - mae: 2094.0918 - mse: 22475226.0000 - val_loss: 2268.5994 - val_mae: 2268.5994 - val_mse: 23071242.0000\n",
            "Epoch 12/100\n",
            "27/27 [==============================] - 0s 3ms/step - loss: 2086.9824 - mae: 2086.9824 - mse: 23143396.0000 - val_loss: 2167.0691 - val_mae: 2167.0691 - val_mse: 24598896.0000\n",
            "Epoch 13/100\n",
            "27/27 [==============================] - 0s 3ms/step - loss: 2243.6733 - mae: 2243.6733 - mse: 24772486.0000 - val_loss: 2504.3032 - val_mae: 2504.3032 - val_mse: 24977130.0000\n",
            "Epoch 14/100\n",
            "27/27 [==============================] - 0s 3ms/step - loss: 2065.3237 - mae: 2065.3237 - mse: 22391296.0000 - val_loss: 2147.5876 - val_mae: 2147.5876 - val_mse: 23133724.0000\n",
            "Epoch 15/100\n",
            "27/27 [==============================] - 0s 3ms/step - loss: 2029.0675 - mae: 2029.0675 - mse: 22752474.0000 - val_loss: 2330.6716 - val_mae: 2330.6719 - val_mse: 22867122.0000\n",
            "Epoch 16/100\n",
            "27/27 [==============================] - 0s 3ms/step - loss: 2078.3237 - mae: 2078.3237 - mse: 22717426.0000 - val_loss: 2123.0220 - val_mae: 2123.0220 - val_mse: 24131722.0000\n",
            "Epoch 17/100\n",
            "27/27 [==============================] - 0s 4ms/step - loss: 2020.5760 - mae: 2020.5760 - mse: 22561828.0000 - val_loss: 2149.7930 - val_mae: 2149.7930 - val_mse: 24147420.0000\n",
            "Epoch 18/100\n",
            "27/27 [==============================] - 0s 4ms/step - loss: 2034.6185 - mae: 2034.6185 - mse: 22510884.0000 - val_loss: 2090.9670 - val_mae: 2090.9670 - val_mse: 23532646.0000\n",
            "Epoch 19/100\n",
            "27/27 [==============================] - 0s 3ms/step - loss: 1988.7875 - mae: 1988.7875 - mse: 22433808.0000 - val_loss: 2093.9521 - val_mae: 2093.9521 - val_mse: 22997152.0000\n",
            "Epoch 20/100\n",
            "27/27 [==============================] - 0s 3ms/step - loss: 1977.0334 - mae: 1977.0334 - mse: 22475292.0000 - val_loss: 2216.6155 - val_mae: 2216.6155 - val_mse: 23671316.0000\n",
            "Epoch 21/100\n",
            "27/27 [==============================] - 0s 3ms/step - loss: 1973.9017 - mae: 1973.9017 - mse: 22594788.0000 - val_loss: 2123.5679 - val_mae: 2123.5679 - val_mse: 23193930.0000\n",
            "Epoch 22/100\n",
            "27/27 [==============================] - 0s 4ms/step - loss: 2006.2800 - mae: 2006.2800 - mse: 22575076.0000 - val_loss: 2174.6870 - val_mae: 2174.6870 - val_mse: 24189388.0000\n",
            "Epoch 23/100\n",
            "27/27 [==============================] - 0s 3ms/step - loss: 1980.7579 - mae: 1980.7579 - mse: 22090642.0000 - val_loss: 2337.1179 - val_mae: 2337.1179 - val_mse: 23167120.0000\n",
            "Epoch 24/100\n",
            "27/27 [==============================] - 0s 3ms/step - loss: 2022.5913 - mae: 2022.5913 - mse: 22645902.0000 - val_loss: 2175.3479 - val_mae: 2175.3479 - val_mse: 23375148.0000\n",
            "Epoch 25/100\n",
            "27/27 [==============================] - 0s 3ms/step - loss: 1945.9771 - mae: 1945.9771 - mse: 22461614.0000 - val_loss: 2064.1453 - val_mae: 2064.1453 - val_mse: 22837850.0000\n",
            "Epoch 26/100\n",
            "27/27 [==============================] - 0s 3ms/step - loss: 1996.7875 - mae: 1996.7875 - mse: 22500474.0000 - val_loss: 2119.3784 - val_mae: 2119.3787 - val_mse: 24051466.0000\n",
            "Epoch 27/100\n",
            "27/27 [==============================] - 0s 3ms/step - loss: 2056.9575 - mae: 2056.9575 - mse: 22435954.0000 - val_loss: 2231.1746 - val_mae: 2231.1746 - val_mse: 23593870.0000\n",
            "Epoch 28/100\n",
            "27/27 [==============================] - 0s 3ms/step - loss: 2048.7517 - mae: 2048.7517 - mse: 22691400.0000 - val_loss: 2098.2136 - val_mae: 2098.2136 - val_mse: 21463688.0000\n",
            "Epoch 29/100\n",
            "27/27 [==============================] - 0s 3ms/step - loss: 1964.1543 - mae: 1964.1543 - mse: 22178922.0000 - val_loss: 2162.9385 - val_mae: 2162.9385 - val_mse: 25200026.0000\n",
            "Epoch 30/100\n",
            "27/27 [==============================] - 0s 3ms/step - loss: 1941.3633 - mae: 1941.3633 - mse: 22041262.0000 - val_loss: 2164.0710 - val_mae: 2164.0710 - val_mse: 23052068.0000\n",
            "Epoch 31/100\n",
            "27/27 [==============================] - 0s 4ms/step - loss: 1979.2227 - mae: 1979.2227 - mse: 22420068.0000 - val_loss: 2089.2578 - val_mae: 2089.2578 - val_mse: 22681538.0000\n",
            "Epoch 32/100\n",
            "27/27 [==============================] - 0s 3ms/step - loss: 1917.2877 - mae: 1917.2877 - mse: 22058930.0000 - val_loss: 2186.9463 - val_mae: 2186.9463 - val_mse: 22869152.0000\n",
            "Epoch 33/100\n",
            "27/27 [==============================] - 0s 3ms/step - loss: 1984.3656 - mae: 1984.3656 - mse: 22022410.0000 - val_loss: 2179.7114 - val_mae: 2179.7114 - val_mse: 23223596.0000\n",
            "Epoch 34/100\n",
            "27/27 [==============================] - 0s 3ms/step - loss: 1956.0105 - mae: 1956.0105 - mse: 22313004.0000 - val_loss: 2067.9883 - val_mae: 2067.9883 - val_mse: 22327092.0000\n",
            "Epoch 35/100\n",
            "27/27 [==============================] - 0s 3ms/step - loss: 1894.3625 - mae: 1894.3625 - mse: 22033796.0000 - val_loss: 2060.3835 - val_mae: 2060.3835 - val_mse: 22424812.0000\n",
            "Epoch 36/100\n",
            "27/27 [==============================] - 0s 3ms/step - loss: 1893.9467 - mae: 1893.9467 - mse: 22249960.0000 - val_loss: 2061.5032 - val_mae: 2061.5032 - val_mse: 23505520.0000\n",
            "Epoch 37/100\n",
            "27/27 [==============================] - 0s 3ms/step - loss: 2041.4529 - mae: 2041.4529 - mse: 23292546.0000 - val_loss: 2432.6631 - val_mae: 2432.6631 - val_mse: 22534682.0000\n",
            "Epoch 38/100\n",
            "27/27 [==============================] - 0s 3ms/step - loss: 2021.5281 - mae: 2021.5281 - mse: 22144906.0000 - val_loss: 2023.4154 - val_mae: 2023.4154 - val_mse: 22929700.0000\n",
            "Epoch 39/100\n",
            "27/27 [==============================] - 0s 3ms/step - loss: 1939.3141 - mae: 1939.3141 - mse: 22077754.0000 - val_loss: 2014.7731 - val_mae: 2014.7729 - val_mse: 22445484.0000\n",
            "Epoch 40/100\n",
            "27/27 [==============================] - 0s 3ms/step - loss: 1961.0143 - mae: 1961.0143 - mse: 22198332.0000 - val_loss: 2054.2593 - val_mae: 2054.2593 - val_mse: 23215214.0000\n",
            "Epoch 41/100\n",
            "27/27 [==============================] - 0s 3ms/step - loss: 1951.1997 - mae: 1951.1997 - mse: 22368346.0000 - val_loss: 2056.7075 - val_mae: 2056.7075 - val_mse: 22378604.0000\n",
            "Epoch 42/100\n",
            "27/27 [==============================] - 0s 3ms/step - loss: 1933.2572 - mae: 1933.2572 - mse: 22030096.0000 - val_loss: 1971.4681 - val_mae: 1971.4681 - val_mse: 21317678.0000\n",
            "Epoch 43/100\n",
            "27/27 [==============================] - 0s 4ms/step - loss: 1896.7471 - mae: 1896.7471 - mse: 21483166.0000 - val_loss: 1981.9584 - val_mae: 1981.9584 - val_mse: 21560120.0000\n",
            "Epoch 44/100\n",
            "27/27 [==============================] - 0s 3ms/step - loss: 1989.0842 - mae: 1989.0842 - mse: 21750018.0000 - val_loss: 2150.4890 - val_mae: 2150.4890 - val_mse: 21259956.0000\n",
            "Epoch 45/100\n",
            "27/27 [==============================] - 0s 3ms/step - loss: 1929.1355 - mae: 1929.1355 - mse: 21710176.0000 - val_loss: 2041.6545 - val_mae: 2041.6545 - val_mse: 21934694.0000\n",
            "Epoch 46/100\n",
            "27/27 [==============================] - 0s 3ms/step - loss: 1984.2366 - mae: 1984.2366 - mse: 21581612.0000 - val_loss: 2145.0100 - val_mae: 2145.0100 - val_mse: 23753196.0000\n",
            "Epoch 47/100\n",
            "27/27 [==============================] - 0s 3ms/step - loss: 2028.5848 - mae: 2028.5848 - mse: 22003338.0000 - val_loss: 2039.5819 - val_mae: 2039.5819 - val_mse: 22432426.0000\n",
            "Epoch 48/100\n",
            "27/27 [==============================] - 0s 3ms/step - loss: 1941.8229 - mae: 1941.8229 - mse: 21475472.0000 - val_loss: 2006.5488 - val_mae: 2006.5488 - val_mse: 21134564.0000\n",
            "Epoch 49/100\n",
            "27/27 [==============================] - 0s 3ms/step - loss: 2030.2648 - mae: 2030.2648 - mse: 21739614.0000 - val_loss: 2014.4901 - val_mae: 2014.4901 - val_mse: 20809098.0000\n",
            "Epoch 50/100\n",
            "27/27 [==============================] - 0s 3ms/step - loss: 1902.5000 - mae: 1902.5000 - mse: 21343618.0000 - val_loss: 1986.1505 - val_mae: 1986.1505 - val_mse: 20414936.0000\n",
            "Epoch 51/100\n",
            "27/27 [==============================] - 0s 3ms/step - loss: 1994.2483 - mae: 1994.2483 - mse: 21100314.0000 - val_loss: 1871.2711 - val_mae: 1871.2711 - val_mse: 20481302.0000\n",
            "Epoch 52/100\n",
            "27/27 [==============================] - 0s 3ms/step - loss: 1964.4436 - mae: 1964.4436 - mse: 20826828.0000 - val_loss: 1894.2532 - val_mae: 1894.2532 - val_mse: 21081526.0000\n",
            "Epoch 53/100\n",
            "27/27 [==============================] - 0s 3ms/step - loss: 1851.2654 - mae: 1851.2654 - mse: 20954842.0000 - val_loss: 1899.3245 - val_mae: 1899.3245 - val_mse: 20818140.0000\n",
            "Epoch 54/100\n",
            "27/27 [==============================] - 0s 3ms/step - loss: 1879.4331 - mae: 1879.4331 - mse: 20923096.0000 - val_loss: 1865.0265 - val_mae: 1865.0265 - val_mse: 20408172.0000\n",
            "Epoch 55/100\n",
            "27/27 [==============================] - 0s 4ms/step - loss: 1852.1533 - mae: 1852.1533 - mse: 20984660.0000 - val_loss: 2018.3531 - val_mae: 2018.3531 - val_mse: 19873642.0000\n",
            "Epoch 56/100\n",
            "27/27 [==============================] - 0s 3ms/step - loss: 1818.9523 - mae: 1818.9523 - mse: 20328582.0000 - val_loss: 1835.9562 - val_mae: 1835.9562 - val_mse: 20450080.0000\n",
            "Epoch 57/100\n",
            "27/27 [==============================] - 0s 3ms/step - loss: 1729.0245 - mae: 1729.0245 - mse: 20061136.0000 - val_loss: 1755.9708 - val_mae: 1755.9708 - val_mse: 20648546.0000\n",
            "Epoch 58/100\n",
            "27/27 [==============================] - 0s 3ms/step - loss: 1730.7133 - mae: 1730.7133 - mse: 20353732.0000 - val_loss: 1831.4590 - val_mae: 1831.4590 - val_mse: 19952066.0000\n",
            "Epoch 59/100\n",
            "27/27 [==============================] - 0s 3ms/step - loss: 1741.0476 - mae: 1741.0476 - mse: 20249370.0000 - val_loss: 1729.2949 - val_mae: 1729.2949 - val_mse: 19649376.0000\n",
            "Epoch 60/100\n",
            "27/27 [==============================] - 0s 3ms/step - loss: 1744.0736 - mae: 1744.0736 - mse: 20139846.0000 - val_loss: 1789.6466 - val_mae: 1789.6466 - val_mse: 19143114.0000\n",
            "Epoch 61/100\n",
            "27/27 [==============================] - 0s 3ms/step - loss: 1709.0035 - mae: 1709.0035 - mse: 19907988.0000 - val_loss: 1696.0284 - val_mae: 1696.0284 - val_mse: 19155970.0000\n",
            "Epoch 62/100\n",
            "27/27 [==============================] - 0s 4ms/step - loss: 1750.0425 - mae: 1750.0425 - mse: 20250122.0000 - val_loss: 1879.5334 - val_mae: 1879.5333 - val_mse: 19655226.0000\n",
            "Epoch 63/100\n",
            "27/27 [==============================] - 0s 3ms/step - loss: 1769.7937 - mae: 1769.7937 - mse: 20502946.0000 - val_loss: 1805.1759 - val_mae: 1805.1759 - val_mse: 20528008.0000\n",
            "Epoch 64/100\n",
            "27/27 [==============================] - 0s 3ms/step - loss: 1749.2848 - mae: 1749.2848 - mse: 20173528.0000 - val_loss: 1896.7948 - val_mae: 1896.7948 - val_mse: 20258284.0000\n",
            "Epoch 65/100\n",
            "27/27 [==============================] - 0s 2ms/step - loss: 1745.2568 - mae: 1745.2568 - mse: 19865130.0000 - val_loss: 1632.5415 - val_mae: 1632.5415 - val_mse: 19659892.0000\n",
            "Epoch 66/100\n",
            "27/27 [==============================] - 0s 3ms/step - loss: 1747.3215 - mae: 1747.3215 - mse: 19690372.0000 - val_loss: 2540.1128 - val_mae: 2540.1128 - val_mse: 21075720.0000\n",
            "Epoch 67/100\n",
            "27/27 [==============================] - 0s 3ms/step - loss: 2022.5508 - mae: 2022.5508 - mse: 20810508.0000 - val_loss: 1893.9020 - val_mae: 1893.9020 - val_mse: 21226264.0000\n",
            "Epoch 68/100\n",
            "27/27 [==============================] - 0s 3ms/step - loss: 1706.9229 - mae: 1706.9229 - mse: 19917780.0000 - val_loss: 1713.1031 - val_mae: 1713.1031 - val_mse: 19161882.0000\n",
            "Epoch 69/100\n",
            "27/27 [==============================] - 0s 2ms/step - loss: 1711.2119 - mae: 1711.2119 - mse: 20144554.0000 - val_loss: 1787.3273 - val_mae: 1787.3273 - val_mse: 19079044.0000\n",
            "Epoch 70/100\n",
            "27/27 [==============================] - 0s 3ms/step - loss: 1776.2043 - mae: 1776.2043 - mse: 20412540.0000 - val_loss: 1828.7991 - val_mae: 1828.7991 - val_mse: 19124498.0000\n",
            "Epoch 71/100\n",
            "27/27 [==============================] - 0s 2ms/step - loss: 1695.8685 - mae: 1695.8685 - mse: 19769912.0000 - val_loss: 1765.6346 - val_mae: 1765.6346 - val_mse: 19321466.0000\n",
            "Epoch 72/100\n",
            "27/27 [==============================] - 0s 3ms/step - loss: 1766.2119 - mae: 1766.2119 - mse: 20037482.0000 - val_loss: 1675.2432 - val_mae: 1675.2432 - val_mse: 19133096.0000\n",
            "Epoch 73/100\n",
            "27/27 [==============================] - 0s 3ms/step - loss: 1706.5901 - mae: 1706.5901 - mse: 20021434.0000 - val_loss: 1763.3740 - val_mae: 1763.3740 - val_mse: 20372720.0000\n",
            "Epoch 74/100\n",
            "27/27 [==============================] - 0s 3ms/step - loss: 1768.3298 - mae: 1768.3298 - mse: 20206936.0000 - val_loss: 1734.4908 - val_mae: 1734.4908 - val_mse: 20382472.0000\n",
            "Epoch 75/100\n",
            "27/27 [==============================] - 0s 3ms/step - loss: 1681.5509 - mae: 1681.5509 - mse: 19717524.0000 - val_loss: 1674.1036 - val_mae: 1674.1036 - val_mse: 19854346.0000\n",
            "Epoch 76/100\n",
            "27/27 [==============================] - 0s 3ms/step - loss: 1656.2161 - mae: 1656.2161 - mse: 19654160.0000 - val_loss: 1649.6930 - val_mae: 1649.6930 - val_mse: 19278296.0000\n",
            "Epoch 77/100\n",
            "27/27 [==============================] - 0s 3ms/step - loss: 1695.1890 - mae: 1695.1890 - mse: 19787636.0000 - val_loss: 1873.6603 - val_mae: 1873.6603 - val_mse: 21049564.0000\n",
            "Epoch 78/100\n",
            "27/27 [==============================] - 0s 3ms/step - loss: 1798.9263 - mae: 1798.9263 - mse: 20041522.0000 - val_loss: 1701.6669 - val_mae: 1701.6669 - val_mse: 19563530.0000\n",
            "Epoch 79/100\n",
            "27/27 [==============================] - 0s 3ms/step - loss: 1678.3960 - mae: 1678.3960 - mse: 19891736.0000 - val_loss: 1794.6912 - val_mae: 1794.6912 - val_mse: 20307020.0000\n",
            "Epoch 80/100\n",
            "27/27 [==============================] - 0s 3ms/step - loss: 1777.8344 - mae: 1777.8344 - mse: 19987952.0000 - val_loss: 1709.9728 - val_mae: 1709.9728 - val_mse: 19775654.0000\n",
            "Epoch 81/100\n",
            "27/27 [==============================] - 0s 3ms/step - loss: 1664.3827 - mae: 1664.3827 - mse: 19652232.0000 - val_loss: 1689.8295 - val_mae: 1689.8295 - val_mse: 19578936.0000\n",
            "Epoch 82/100\n",
            "27/27 [==============================] - 0s 3ms/step - loss: 1730.2380 - mae: 1730.2380 - mse: 19837584.0000 - val_loss: 1732.3384 - val_mae: 1732.3384 - val_mse: 20126826.0000\n",
            "Epoch 83/100\n",
            "27/27 [==============================] - 0s 3ms/step - loss: 1661.5336 - mae: 1661.5336 - mse: 19705004.0000 - val_loss: 1624.3497 - val_mae: 1624.3497 - val_mse: 20108536.0000\n",
            "Epoch 84/100\n",
            "27/27 [==============================] - 0s 3ms/step - loss: 1674.6196 - mae: 1674.6196 - mse: 19650258.0000 - val_loss: 1668.8376 - val_mae: 1668.8376 - val_mse: 19187390.0000\n",
            "Epoch 85/100\n",
            "27/27 [==============================] - 0s 3ms/step - loss: 1913.7156 - mae: 1913.7156 - mse: 20380064.0000 - val_loss: 1676.8907 - val_mae: 1676.8907 - val_mse: 19583636.0000\n",
            "Epoch 86/100\n",
            "27/27 [==============================] - 0s 3ms/step - loss: 1775.6738 - mae: 1775.6738 - mse: 19795056.0000 - val_loss: 1861.3043 - val_mae: 1861.3043 - val_mse: 22143694.0000\n",
            "Epoch 87/100\n",
            "27/27 [==============================] - 0s 3ms/step - loss: 1667.4971 - mae: 1667.4971 - mse: 19625350.0000 - val_loss: 1749.7800 - val_mae: 1749.7800 - val_mse: 20396652.0000\n",
            "Epoch 88/100\n",
            "27/27 [==============================] - 0s 3ms/step - loss: 1643.6891 - mae: 1643.6891 - mse: 19882254.0000 - val_loss: 1877.3009 - val_mae: 1877.3009 - val_mse: 18521624.0000\n",
            "Epoch 89/100\n",
            "27/27 [==============================] - 0s 3ms/step - loss: 1728.5883 - mae: 1728.5883 - mse: 19824520.0000 - val_loss: 1640.5378 - val_mae: 1640.5378 - val_mse: 19314666.0000\n",
            "Epoch 90/100\n",
            "27/27 [==============================] - 0s 4ms/step - loss: 1642.9204 - mae: 1642.9204 - mse: 19835540.0000 - val_loss: 1696.4236 - val_mae: 1696.4236 - val_mse: 20226668.0000\n",
            "Epoch 91/100\n",
            "27/27 [==============================] - 0s 3ms/step - loss: 1635.9232 - mae: 1635.9232 - mse: 19600198.0000 - val_loss: 1731.2728 - val_mae: 1731.2728 - val_mse: 20822016.0000\n",
            "Epoch 92/100\n",
            "27/27 [==============================] - 0s 3ms/step - loss: 1687.0377 - mae: 1687.0377 - mse: 19796348.0000 - val_loss: 1614.7233 - val_mae: 1614.7233 - val_mse: 19179828.0000\n",
            "Epoch 93/100\n",
            "27/27 [==============================] - 0s 3ms/step - loss: 1735.7634 - mae: 1735.7634 - mse: 20031404.0000 - val_loss: 1917.2888 - val_mae: 1917.2888 - val_mse: 21310992.0000\n",
            "Epoch 94/100\n",
            "27/27 [==============================] - 0s 4ms/step - loss: 1794.9156 - mae: 1794.9156 - mse: 20334052.0000 - val_loss: 1642.7357 - val_mae: 1642.7357 - val_mse: 19524368.0000\n",
            "Epoch 95/100\n",
            "27/27 [==============================] - 0s 4ms/step - loss: 1634.6699 - mae: 1634.6699 - mse: 19629366.0000 - val_loss: 1635.8949 - val_mae: 1635.8949 - val_mse: 19085180.0000\n",
            "Epoch 96/100\n",
            "27/27 [==============================] - 0s 3ms/step - loss: 1639.6504 - mae: 1639.6504 - mse: 19513500.0000 - val_loss: 1764.4241 - val_mae: 1764.4241 - val_mse: 21240080.0000\n",
            "Epoch 97/100\n",
            "27/27 [==============================] - 0s 3ms/step - loss: 1663.7926 - mae: 1663.7926 - mse: 19477274.0000 - val_loss: 1557.9370 - val_mae: 1557.9370 - val_mse: 18427714.0000\n",
            "Epoch 98/100\n",
            "27/27 [==============================] - 0s 3ms/step - loss: 1637.1147 - mae: 1637.1147 - mse: 19637466.0000 - val_loss: 1623.6550 - val_mae: 1623.6550 - val_mse: 18676976.0000\n",
            "Epoch 99/100\n",
            "27/27 [==============================] - 0s 3ms/step - loss: 1745.1531 - mae: 1745.1531 - mse: 20118274.0000 - val_loss: 1883.5959 - val_mae: 1883.5959 - val_mse: 20617038.0000\n",
            "Epoch 100/100\n",
            "27/27 [==============================] - 0s 3ms/step - loss: 1714.1676 - mae: 1714.1676 - mse: 19781070.0000 - val_loss: 1561.2806 - val_mae: 1561.2806 - val_mse: 18984544.0000\n"
          ],
          "name": "stdout"
        }
      ]
    },
    {
      "cell_type": "code",
      "metadata": {
        "id": "Xe7RXH3N3CWU",
        "colab": {
          "base_uri": "https://localhost:8080/",
          "height": 334
        },
        "outputId": "3ba70420-627a-4c0f-b1ae-c7979e26724e"
      },
      "source": [
        "# RUN THIS CELL TO TEST YOUR MODEL. DO NOT MODIFY CONTENTS.\n",
        "# Test model by checking how well the model generalizes using the test set.\n",
        "loss, mae, mse = model.evaluate(test_dataset, test_labels, verbose=2)\n",
        "\n",
        "print(\"Testing set Mean Abs Error: {:5.2f} expenses\".format(mae))\n",
        "\n",
        "if mae < 3500:\n",
        "  print(\"You passed the challenge. Great job!\")\n",
        "else:\n",
        "  print(\"The Mean Abs Error must be less than 3500. Keep trying.\")\n",
        "\n",
        "# Plot predictions.\n",
        "test_predictions = model.predict(test_dataset).flatten()\n",
        "\n",
        "a = plt.axes(aspect='equal')\n",
        "plt.scatter(test_labels, test_predictions)\n",
        "plt.xlabel('True values (expenses)')\n",
        "plt.ylabel('Predictions (expenses)')\n",
        "lims = [0, 50000]\n",
        "plt.xlim(lims)\n",
        "plt.ylim(lims)\n",
        "_ = plt.plot(lims,lims)\n"
      ],
      "execution_count": null,
      "outputs": [
        {
          "output_type": "stream",
          "text": [
            "9/9 - 0s - loss: 2219.9973 - mae: 2219.9973 - mse: 32104640.0000\n",
            "Testing set Mean Abs Error: 2220.00 expenses\n",
            "You passed the challenge. Great job!\n"
          ],
          "name": "stdout"
        },
        {
          "output_type": "display_data",
          "data": {
            "image/png": "[encoded data removed]",
            "text/plain": [
              "<Figure size 432x288 with 1 Axes>"
            ]
          },
          "metadata": {
            "tags": [],
            "needs_background": "light"
          }
        }
      ]
    }
  ]
}
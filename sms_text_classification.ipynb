{
  "nbformat": 4,
  "nbformat_minor": 0,
  "metadata": {
    "colab": {
      "name": "sms_text_classification.ipynb",
      "provenance": [],
      "collapsed_sections": [
        "Sw6q3eORhrwj",
        "hTBLcCGch06O",
        "75RIDyRQhnFV",
        "EvdGB_2t_rDO",
        "MF6XPdYo_vvQ",
        "psBhelFY_bHj"
      ],
      "include_colab_link": true
    },
    "kernelspec": {
      "display_name": "Python 3",
      "name": "python3"
    }
  },
  "cells": [
    {
      "cell_type": "markdown",
      "metadata": {
        "id": "view-in-github",
        "colab_type": "text"
      },
      "source": [
        "<a href=\"https://colab.research.google.com/github/jedkk/Machine-Learning/blob/main/sms_text_classification.ipynb\" target=\"_parent\"><img src=\"https://colab.research.google.com/assets/colab-badge.svg\" alt=\"Open In Colab\"/></a>"
      ]
    },
    {
      "cell_type": "markdown",
      "metadata": {
        "id": "Eg62Pmz3o83v"
      },
      "source": [
        "Create a machine learning model that will classify SMS messages as either \"ham\" or \"spam\". A \"ham\" message is a normal message sent by a friend. A \"spam\" message is an advertisement or a message sent by a company.\n",
        "\n",
        "You should create a function called `predict_message` that takes a message string as an argument and returns a list. The first element in the list should be a number between zero and one that indicates the likeliness of \"ham\" (0) or \"spam\" (1). The second element in the list should be the word \"ham\" or \"spam\", depending on which is most likely.\n",
        "\n",
        "For this challenge, you will use the [SMS Spam Collection dataset](http://www.dt.fee.unicamp.br/~tiago/smsspamcollection/). The dataset has already been grouped into train data and test data.\n"
      ]
    },
    {
      "cell_type": "markdown",
      "metadata": {
        "id": "Sw6q3eORhrwj"
      },
      "source": [
        "# Import Libraries and get Data"
      ]
    },
    {
      "cell_type": "code",
      "metadata": {
        "id": "8RZOuS9LWQvv"
      },
      "source": [
        "try:\n",
        "  # %tensorflow_version only exists in Colab.\n",
        "  !pip install tf-nightly\n",
        "except Exception:\n",
        "  pass\n",
        "import tensorflow as tf\n",
        "import pandas as pd\n",
        "from tensorflow import keras\n",
        "!pip install tensorflow-datasets\n",
        "import tensorflow_datasets as tfds\n",
        "import numpy as np\n",
        "import matplotlib.pyplot as plt\n",
        "\n",
        "print(tf.__version__)"
      ],
      "execution_count": null,
      "outputs": []
    },
    {
      "cell_type": "code",
      "metadata": {
        "colab": {
          "base_uri": "https://localhost:8080/"
        },
        "id": "oknnFbfRtdAn",
        "outputId": "95d15c81-eb75-42ca-c1b0-07d333cfe044"
      },
      "source": [
        "#!pip install nltk\n",
        "import re\n",
        "from nltk.corpus import stopwords\n",
        "import nltk\n",
        "nltk.download('stopwords')"
      ],
      "execution_count": null,
      "outputs": [
        {
          "output_type": "stream",
          "text": [
            "[nltk_data] Downloading package stopwords to /root/nltk_data...\n",
            "[nltk_data]   Unzipping corpora/stopwords.zip.\n"
          ],
          "name": "stdout"
        },
        {
          "output_type": "execute_result",
          "data": {
            "text/plain": [
              "True"
            ]
          },
          "metadata": {
            "tags": []
          },
          "execution_count": 2
        }
      ]
    },
    {
      "cell_type": "code",
      "metadata": {
        "id": "GAC7rRUGkhcc"
      },
      "source": [
        "from keras.models import Sequential\n",
        "from keras.layers import Embedding, GlobalAveragePooling1D, Dense, Dropout, LSTM, Bidirectional, Flatten, InputLayer\n",
        "from keras.preprocessing.text import Tokenizer\n",
        "from keras.preprocessing.sequence import pad_sequences\n",
        "from keras.callbacks import EarlyStopping"
      ],
      "execution_count": null,
      "outputs": []
    },
    {
      "cell_type": "code",
      "metadata": {
        "id": "lMHwYXHXCar3",
        "colab": {
          "base_uri": "https://localhost:8080/"
        },
        "outputId": "a44793e1-5096-41ae-f026-d6cbc79be0c4"
      },
      "source": [
        "# get data files\n",
        "!wget https://cdn.freecodecamp.org/project-data/sms/train-data.tsv\n",
        "!wget https://cdn.freecodecamp.org/project-data/sms/valid-data.tsv\n",
        "\n",
        "train_file_path = \"train-data.tsv\"\n",
        "test_file_path = \"valid-data.tsv\""
      ],
      "execution_count": null,
      "outputs": [
        {
          "output_type": "stream",
          "text": [
            "--2021-05-30 07:43:43--  https://cdn.freecodecamp.org/project-data/sms/train-data.tsv\n",
            "Resolving cdn.freecodecamp.org (cdn.freecodecamp.org)... 104.26.2.33, 172.67.70.149, 104.26.3.33, ...\n",
            "Connecting to cdn.freecodecamp.org (cdn.freecodecamp.org)|104.26.2.33|:443... connected.\n",
            "HTTP request sent, awaiting response... 200 OK\n",
            "Length: 358233 (350K) [text/tab-separated-values]\n",
            "Saving to: ‘train-data.tsv’\n",
            "\n",
            "train-data.tsv      100%[===================>] 349.84K  --.-KB/s    in 0.04s   \n",
            "\n",
            "2021-05-30 07:43:43 (9.21 MB/s) - ‘train-data.tsv’ saved [358233/358233]\n",
            "\n",
            "--2021-05-30 07:43:43--  https://cdn.freecodecamp.org/project-data/sms/valid-data.tsv\n",
            "Resolving cdn.freecodecamp.org (cdn.freecodecamp.org)... 104.26.2.33, 172.67.70.149, 104.26.3.33, ...\n",
            "Connecting to cdn.freecodecamp.org (cdn.freecodecamp.org)|104.26.2.33|:443... connected.\n",
            "HTTP request sent, awaiting response... 200 OK\n",
            "Length: 118774 (116K) [text/tab-separated-values]\n",
            "Saving to: ‘valid-data.tsv’\n",
            "\n",
            "valid-data.tsv      100%[===================>] 115.99K  --.-KB/s    in 0.02s   \n",
            "\n",
            "2021-05-30 07:43:43 (5.21 MB/s) - ‘valid-data.tsv’ saved [118774/118774]\n",
            "\n"
          ],
          "name": "stdout"
        }
      ]
    },
    {
      "cell_type": "markdown",
      "metadata": {
        "id": "hTBLcCGch06O"
      },
      "source": [
        "# Data Exploration"
      ]
    },
    {
      "cell_type": "code",
      "metadata": {
        "id": "g_h508FEClxO"
      },
      "source": [
        "train_data = pd.read_csv(train_file_path, sep='\\t', header=None, names=['label', 'message'])\n",
        "test_data = pd.read_csv(test_file_path, sep='\\t', header=None, names=['label', 'message'])"
      ],
      "execution_count": null,
      "outputs": []
    },
    {
      "cell_type": "code",
      "metadata": {
        "id": "zOMKywn4zReN",
        "colab": {
          "base_uri": "https://localhost:8080/",
          "height": 203
        },
        "outputId": "918b3d5f-4711-41e8-eba9-c27a24568e61"
      },
      "source": [
        "train_data.head()"
      ],
      "execution_count": null,
      "outputs": [
        {
          "output_type": "execute_result",
          "data": {
            "text/html": [
              "<div>\n",
              "<style scoped>\n",
              "    .dataframe tbody tr th:only-of-type {\n",
              "        vertical-align: middle;\n",
              "    }\n",
              "\n",
              "    .dataframe tbody tr th {\n",
              "        vertical-align: top;\n",
              "    }\n",
              "\n",
              "    .dataframe thead th {\n",
              "        text-align: right;\n",
              "    }\n",
              "</style>\n",
              "<table border=\"1\" class=\"dataframe\">\n",
              "  <thead>\n",
              "    <tr style=\"text-align: right;\">\n",
              "      <th></th>\n",
              "      <th>label</th>\n",
              "      <th>message</th>\n",
              "    </tr>\n",
              "  </thead>\n",
              "  <tbody>\n",
              "    <tr>\n",
              "      <th>0</th>\n",
              "      <td>ham</td>\n",
              "      <td>ahhhh...just woken up!had a bad dream about u ...</td>\n",
              "    </tr>\n",
              "    <tr>\n",
              "      <th>1</th>\n",
              "      <td>ham</td>\n",
              "      <td>you can never do nothing</td>\n",
              "    </tr>\n",
              "    <tr>\n",
              "      <th>2</th>\n",
              "      <td>ham</td>\n",
              "      <td>now u sound like manky scouse boy steve,like! ...</td>\n",
              "    </tr>\n",
              "    <tr>\n",
              "      <th>3</th>\n",
              "      <td>ham</td>\n",
              "      <td>mum say we wan to go then go... then she can s...</td>\n",
              "    </tr>\n",
              "    <tr>\n",
              "      <th>4</th>\n",
              "      <td>ham</td>\n",
              "      <td>never y lei... i v lazy... got wat? dat day ü ...</td>\n",
              "    </tr>\n",
              "  </tbody>\n",
              "</table>\n",
              "</div>"
            ],
            "text/plain": [
              "  label                                            message\n",
              "0   ham  ahhhh...just woken up!had a bad dream about u ...\n",
              "1   ham                           you can never do nothing\n",
              "2   ham  now u sound like manky scouse boy steve,like! ...\n",
              "3   ham  mum say we wan to go then go... then she can s...\n",
              "4   ham  never y lei... i v lazy... got wat? dat day ü ..."
            ]
          },
          "metadata": {
            "tags": []
          },
          "execution_count": 24
        }
      ]
    },
    {
      "cell_type": "code",
      "metadata": {
        "colab": {
          "base_uri": "https://localhost:8080/",
          "height": 203
        },
        "id": "vVvraIUmikWv",
        "outputId": "58a28a6c-99db-4201-99b8-eb03c24a4745"
      },
      "source": [
        "test_data.head()"
      ],
      "execution_count": null,
      "outputs": [
        {
          "output_type": "execute_result",
          "data": {
            "text/html": [
              "<div>\n",
              "<style scoped>\n",
              "    .dataframe tbody tr th:only-of-type {\n",
              "        vertical-align: middle;\n",
              "    }\n",
              "\n",
              "    .dataframe tbody tr th {\n",
              "        vertical-align: top;\n",
              "    }\n",
              "\n",
              "    .dataframe thead th {\n",
              "        text-align: right;\n",
              "    }\n",
              "</style>\n",
              "<table border=\"1\" class=\"dataframe\">\n",
              "  <thead>\n",
              "    <tr style=\"text-align: right;\">\n",
              "      <th></th>\n",
              "      <th>label</th>\n",
              "      <th>message</th>\n",
              "    </tr>\n",
              "  </thead>\n",
              "  <tbody>\n",
              "    <tr>\n",
              "      <th>0</th>\n",
              "      <td>ham</td>\n",
              "      <td>i am in hospital da. . i will return home in e...</td>\n",
              "    </tr>\n",
              "    <tr>\n",
              "      <th>1</th>\n",
              "      <td>ham</td>\n",
              "      <td>not much, just some textin'. how bout you?</td>\n",
              "    </tr>\n",
              "    <tr>\n",
              "      <th>2</th>\n",
              "      <td>ham</td>\n",
              "      <td>i probably won't eat at all today. i think i'm...</td>\n",
              "    </tr>\n",
              "    <tr>\n",
              "      <th>3</th>\n",
              "      <td>ham</td>\n",
              "      <td>don‘t give a flying monkeys wot they think and...</td>\n",
              "    </tr>\n",
              "    <tr>\n",
              "      <th>4</th>\n",
              "      <td>ham</td>\n",
              "      <td>who are you seeing?</td>\n",
              "    </tr>\n",
              "  </tbody>\n",
              "</table>\n",
              "</div>"
            ],
            "text/plain": [
              "  label                                            message\n",
              "0   ham  i am in hospital da. . i will return home in e...\n",
              "1   ham         not much, just some textin'. how bout you?\n",
              "2   ham  i probably won't eat at all today. i think i'm...\n",
              "3   ham  don‘t give a flying monkeys wot they think and...\n",
              "4   ham                                who are you seeing?"
            ]
          },
          "metadata": {
            "tags": []
          },
          "execution_count": 25
        }
      ]
    },
    {
      "cell_type": "code",
      "metadata": {
        "colab": {
          "base_uri": "https://localhost:8080/",
          "height": 172
        },
        "id": "lOeblKNGiuem",
        "outputId": "d48d17e7-5998-469a-d589-994739934383"
      },
      "source": [
        "train_data.groupby('label').describe().T"
      ],
      "execution_count": null,
      "outputs": [
        {
          "output_type": "execute_result",
          "data": {
            "text/html": [
              "<div>\n",
              "<style scoped>\n",
              "    .dataframe tbody tr th:only-of-type {\n",
              "        vertical-align: middle;\n",
              "    }\n",
              "\n",
              "    .dataframe tbody tr th {\n",
              "        vertical-align: top;\n",
              "    }\n",
              "\n",
              "    .dataframe thead th {\n",
              "        text-align: right;\n",
              "    }\n",
              "</style>\n",
              "<table border=\"1\" class=\"dataframe\">\n",
              "  <thead>\n",
              "    <tr style=\"text-align: right;\">\n",
              "      <th></th>\n",
              "      <th>label</th>\n",
              "      <th>ham</th>\n",
              "      <th>spam</th>\n",
              "    </tr>\n",
              "  </thead>\n",
              "  <tbody>\n",
              "    <tr>\n",
              "      <th rowspan=\"4\" valign=\"top\">message</th>\n",
              "      <th>count</th>\n",
              "      <td>3619</td>\n",
              "      <td>560</td>\n",
              "    </tr>\n",
              "    <tr>\n",
              "      <th>unique</th>\n",
              "      <td>3430</td>\n",
              "      <td>505</td>\n",
              "    </tr>\n",
              "    <tr>\n",
              "      <th>top</th>\n",
              "      <td>sorry, i'll call later</td>\n",
              "      <td>hmv bonus special 500 pounds of genuine hmv vo...</td>\n",
              "    </tr>\n",
              "    <tr>\n",
              "      <th>freq</th>\n",
              "      <td>22</td>\n",
              "      <td>3</td>\n",
              "    </tr>\n",
              "  </tbody>\n",
              "</table>\n",
              "</div>"
            ],
            "text/plain": [
              "label                              ham                                               spam\n",
              "message count                     3619                                                560\n",
              "        unique                    3430                                                505\n",
              "        top     sorry, i'll call later  hmv bonus special 500 pounds of genuine hmv vo...\n",
              "        freq                        22                                                  3"
            ]
          },
          "metadata": {
            "tags": []
          },
          "execution_count": 6
        }
      ]
    },
    {
      "cell_type": "code",
      "metadata": {
        "colab": {
          "base_uri": "https://localhost:8080/"
        },
        "id": "d8ENTeZujDdw",
        "outputId": "b9b51121-9801-489f-85ea-6bedad8456c0"
      },
      "source": [
        "train_data.label.value_counts()"
      ],
      "execution_count": null,
      "outputs": [
        {
          "output_type": "execute_result",
          "data": {
            "text/plain": [
              "ham     3619\n",
              "spam     560\n",
              "Name: label, dtype: int64"
            ]
          },
          "metadata": {
            "tags": []
          },
          "execution_count": 15
        }
      ]
    },
    {
      "cell_type": "code",
      "metadata": {
        "colab": {
          "base_uri": "https://localhost:8080/",
          "height": 316
        },
        "id": "OWByzFv1abfY",
        "outputId": "4caf8c98-265b-4a28-ac19-322a2728e3a1"
      },
      "source": [
        "train_data['label'].value_counts().sort_values(ascending=False).plot(kind='bar', ylabel='Number of messages', title='Number of messages of each type')"
      ],
      "execution_count": null,
      "outputs": [
        {
          "output_type": "execute_result",
          "data": {
            "text/plain": [
              "<matplotlib.axes._subplots.AxesSubplot at 0x7f02dac886d0>"
            ]
          },
          "metadata": {
            "tags": []
          },
          "execution_count": 7
        },
        {
          "output_type": "display_data",
          "data": {
            "image/png": "[encoded data removed]",
            "text/plain": [
              "<Figure size 432x288 with 1 Axes>"
            ]
          },
          "metadata": {
            "tags": [],
            "needs_background": "light"
          }
        }
      ]
    },
    {
      "cell_type": "code",
      "metadata": {
        "colab": {
          "base_uri": "https://localhost:8080/"
        },
        "id": "IqEIvU0b3Uqe",
        "outputId": "fdef2954-959d-4b41-a869-626bc74bdc54"
      },
      "source": [
        "ham_msg_train = train_data[train_data.label =='ham']\n",
        "spam_msg_train = train_data[train_data.label=='spam']\n",
        "# Downsampling to handle inbalance of data\n",
        "ham_msg_train_df = ham_msg_train.sample(n = len(spam_msg_train), random_state = 44)\n",
        "spam_msg_train_df = spam_msg_train\n",
        "print(ham_msg_train_df.shape, spam_msg_train_df.shape)"
      ],
      "execution_count": null,
      "outputs": [
        {
          "output_type": "stream",
          "text": [
            "(560, 2) (560, 2)\n"
          ],
          "name": "stdout"
        }
      ]
    },
    {
      "cell_type": "code",
      "metadata": {
        "colab": {
          "base_uri": "https://localhost:8080/",
          "height": 316
        },
        "id": "DGvRpdtz4Fnn",
        "outputId": "ea75a05b-502f-41d5-a4dd-3b4ccdc1d911"
      },
      "source": [
        "msg_train_df = ham_msg_train_df.append(spam_msg_train_df).reset_index(drop=True)\n",
        "msg_train_df['label'].value_counts().sort_values(ascending=False).plot(kind='bar', ylabel='Number of messages', title='Number of messages of each type (after downsampling)')"
      ],
      "execution_count": null,
      "outputs": [
        {
          "output_type": "execute_result",
          "data": {
            "text/plain": [
              "<matplotlib.axes._subplots.AxesSubplot at 0x7f02dab64bd0>"
            ]
          },
          "metadata": {
            "tags": []
          },
          "execution_count": 9
        },
        {
          "output_type": "display_data",
          "data": {
            "image/png": "[encoded data removed]",
            "text/plain": [
              "<Figure size 432x288 with 1 Axes>"
            ]
          },
          "metadata": {
            "tags": [],
            "needs_background": "light"
          }
        }
      ]
    },
    {
      "cell_type": "code",
      "metadata": {
        "colab": {
          "base_uri": "https://localhost:8080/",
          "height": 142
        },
        "id": "TOYUxXb26e30",
        "outputId": "ee99002f-451b-49af-bdc5-50f23bad9f6b"
      },
      "source": [
        "#Count length of messages\n",
        "msg_train_df['text_length'] = msg_train_df['message'].apply(len)\n",
        "\n",
        "# Map ham label as 0 and spam as 1\n",
        "msg_train_df['msg_type'] = msg_train_df['label'].map({'ham': 0, 'spam': 1})\n",
        "msg_label = msg_train_df['msg_type'].values\n",
        "\n",
        "#Calculate average length by label types\n",
        "labels = msg_train_df.groupby('label').mean()\n",
        "labels"
      ],
      "execution_count": null,
      "outputs": [
        {
          "output_type": "execute_result",
          "data": {
            "text/html": [
              "<div>\n",
              "<style scoped>\n",
              "    .dataframe tbody tr th:only-of-type {\n",
              "        vertical-align: middle;\n",
              "    }\n",
              "\n",
              "    .dataframe tbody tr th {\n",
              "        vertical-align: top;\n",
              "    }\n",
              "\n",
              "    .dataframe thead th {\n",
              "        text-align: right;\n",
              "    }\n",
              "</style>\n",
              "<table border=\"1\" class=\"dataframe\">\n",
              "  <thead>\n",
              "    <tr style=\"text-align: right;\">\n",
              "      <th></th>\n",
              "      <th>text_length</th>\n",
              "      <th>msg_type</th>\n",
              "    </tr>\n",
              "    <tr>\n",
              "      <th>label</th>\n",
              "      <th></th>\n",
              "      <th></th>\n",
              "    </tr>\n",
              "  </thead>\n",
              "  <tbody>\n",
              "    <tr>\n",
              "      <th>ham</th>\n",
              "      <td>70.823214</td>\n",
              "      <td>0.0</td>\n",
              "    </tr>\n",
              "    <tr>\n",
              "      <th>spam</th>\n",
              "      <td>138.750000</td>\n",
              "      <td>1.0</td>\n",
              "    </tr>\n",
              "  </tbody>\n",
              "</table>\n",
              "</div>"
            ],
            "text/plain": [
              "       text_length  msg_type\n",
              "label                       \n",
              "ham      70.823214       0.0\n",
              "spam    138.750000       1.0"
            ]
          },
          "metadata": {
            "tags": []
          },
          "execution_count": 10
        }
      ]
    },
    {
      "cell_type": "code",
      "metadata": {
        "id": "29sFaV2u44af"
      },
      "source": [
        "# Map ham label as 0 and spam as 1 for test data\n",
        "test_data['msg_type'] = test_data['label'].map({'ham': 0, 'spam': 1})"
      ],
      "execution_count": null,
      "outputs": []
    },
    {
      "cell_type": "markdown",
      "metadata": {
        "id": "75RIDyRQhnFV"
      },
      "source": [
        "# Text Cleaning"
      ]
    },
    {
      "cell_type": "code",
      "metadata": {
        "id": "GSRMielhqhfr"
      },
      "source": [
        "# look at a message\n",
        "def print_plot(index):\n",
        "  eg = train_data[train_data.index == index][['message', 'label']].values[0]\n",
        "  if len(eg) > 0:\n",
        "    print(eg[0])\n",
        "    print('msg_type:', eg[1])"
      ],
      "execution_count": null,
      "outputs": []
    },
    {
      "cell_type": "code",
      "metadata": {
        "colab": {
          "base_uri": "https://localhost:8080/"
        },
        "id": "A-fh3pFae_RT",
        "outputId": "19cf13f3-ce29-49e4-cbe4-20292c9840f4"
      },
      "source": [
        "print_plot(1000)"
      ],
      "execution_count": null,
      "outputs": [
        {
          "output_type": "stream",
          "text": [
            "you please give us connection today itself before  &lt;decimal&gt;  or refund the bill\n",
            "msg_type: ham\n"
          ],
          "name": "stdout"
        }
      ]
    },
    {
      "cell_type": "code",
      "metadata": {
        "id": "_WBclBWPtIkU"
      },
      "source": [
        "REPLACE_BY_SPACE_RE = re.compile('[/(){}\\[\\]\\~@,;]')\n",
        "BAD_SYMBOLS_RE = re.compile('[^a-z #+_]') # remove numbers as well\n",
        "STOPWORDS = set(stopwords.words('english'))"
      ],
      "execution_count": null,
      "outputs": []
    },
    {
      "cell_type": "code",
      "metadata": {
        "colab": {
          "base_uri": "https://localhost:8080/"
        },
        "id": "DoXnK74vVJEZ",
        "outputId": "e5137e6a-aa6a-4061-8841-987ff8d2d9da"
      },
      "source": [
        "len(STOPWORDS)"
      ],
      "execution_count": null,
      "outputs": [
        {
          "output_type": "execute_result",
          "data": {
            "text/plain": [
              "179"
            ]
          },
          "metadata": {
            "tags": []
          },
          "execution_count": 50
        }
      ]
    },
    {
      "cell_type": "code",
      "metadata": {
        "id": "XIxc0jNCVWS4"
      },
      "source": [
        "def clean_text(text):\n",
        "  text = text.lower()\n",
        "  text = re.sub('&lt;/?[a-z]+&gt;', '', text) # removes html styles\n",
        "  text = REPLACE_BY_SPACE_RE.sub(' ', text) # removes brackets and braces\n",
        "  text = BAD_SYMBOLS_RE.sub('', text) # removes unusual characters\n",
        "  text = ' '.join(word for word in text.split() if word not in STOPWORDS)\n",
        "  return text"
      ],
      "execution_count": null,
      "outputs": []
    },
    {
      "cell_type": "code",
      "metadata": {
        "colab": {
          "base_uri": "https://localhost:8080/",
          "height": 35
        },
        "id": "cVZszcbimhGr",
        "outputId": "48b755ac-e949-4006-c457-0c1e2831f4d9"
      },
      "source": [
        "clean_text(\"free loans, call 90201010!\")"
      ],
      "execution_count": null,
      "outputs": [
        {
          "output_type": "execute_result",
          "data": {
            "application/vnd.google.colaboratory.intrinsic+json": {
              "type": "string"
            },
            "text/plain": [
              "'free loans call'"
            ]
          },
          "metadata": {
            "tags": []
          },
          "execution_count": 69
        }
      ]
    },
    {
      "cell_type": "code",
      "metadata": {
        "id": "ieFEHiFTXKuI"
      },
      "source": [
        "# cleaning 'msg' in both train and test data\n",
        "msg_train_df['message'] = msg_train_df['message'].apply(clean_text)\n",
        "#train_data['msg'] = train_data['msg'].str.replace('\\d+', '')\n",
        "test_data['message'] = test_data['message'].apply(clean_text)\n",
        "#test_data['msg'] = test_data['msg'].str.replace('\\d+', '')"
      ],
      "execution_count": null,
      "outputs": []
    },
    {
      "cell_type": "markdown",
      "metadata": {
        "id": "NGeJH2S-h7Q4"
      },
      "source": [
        "# Encoding Text"
      ]
    },
    {
      "cell_type": "code",
      "metadata": {
        "id": "8Z-fR8u2hA5Z"
      },
      "source": [
        "max_len = 50 \n",
        "trunc_type = \"post\" \n",
        "padding_type = \"post\" \n",
        "oov_tok = \"<OOV>\" \n",
        "vocab_size = 500"
      ],
      "execution_count": null,
      "outputs": []
    },
    {
      "cell_type": "code",
      "metadata": {
        "colab": {
          "base_uri": "https://localhost:8080/"
        },
        "id": "qgFlTd0RiKiR",
        "outputId": "562c4adf-54a1-4342-eb16-6b368651a5ad"
      },
      "source": [
        "tokenizer = Tokenizer(num_words = vocab_size, char_level=False, oov_token = oov_tok)\n",
        "tokenizer.fit_on_texts(msg_train_df['message'])\n",
        "word_index = tokenizer.word_index\n",
        "len(word_index)"
      ],
      "execution_count": null,
      "outputs": [
        {
          "output_type": "execute_result",
          "data": {
            "text/plain": [
              "3999"
            ]
          },
          "metadata": {
            "tags": []
          },
          "execution_count": 70
        }
      ]
    },
    {
      "cell_type": "code",
      "metadata": {
        "id": "Hclfk2pM36Q1"
      },
      "source": [
        "train_labels, test_labels = msg_train_df.pop('msg_type'), test_data.pop('msg_type')"
      ],
      "execution_count": null,
      "outputs": []
    },
    {
      "cell_type": "code",
      "metadata": {
        "id": "xTD4ZpKbjCPB"
      },
      "source": [
        "# Sequencing and padding on training and testing \n",
        "training_sequences = tokenizer.texts_to_sequences(msg_train_df['message'])\n",
        "training_padded = pad_sequences(training_sequences, maxlen = max_len, padding = padding_type, truncating = trunc_type)\n",
        "testing_sequences = tokenizer.texts_to_sequences(test_data['message'])\n",
        "testing_padded = pad_sequences(testing_sequences, maxlen = max_len,\n",
        "padding = padding_type, truncating = trunc_type)"
      ],
      "execution_count": null,
      "outputs": []
    },
    {
      "cell_type": "code",
      "metadata": {
        "colab": {
          "base_uri": "https://localhost:8080/"
        },
        "id": "PImmb71Io66a",
        "outputId": "a9069953-7f3a-4286-b985-4ca893708e3e"
      },
      "source": [
        "# Shape of train tensor\n",
        "print('Shape of training tensor: ', training_padded.shape)\n",
        "print('Shape of testing tensor: ', testing_padded.shape)"
      ],
      "execution_count": null,
      "outputs": [
        {
          "output_type": "stream",
          "text": [
            "Shape of training tensor:  (1120, 50)\n",
            "Shape of testing tensor:  (1392, 50)\n"
          ],
          "name": "stdout"
        }
      ]
    },
    {
      "cell_type": "markdown",
      "metadata": {
        "id": "ZuV-r_9abmFV"
      },
      "source": [
        "# General Model params"
      ]
    },
    {
      "cell_type": "code",
      "metadata": {
        "id": "CAjCqwq42zn6"
      },
      "source": [
        "# Model parameters\n",
        "embedding_dim = 16\n",
        "drop_value = 0.2 \n",
        "n_dense = 24"
      ],
      "execution_count": null,
      "outputs": []
    },
    {
      "cell_type": "markdown",
      "metadata": {
        "id": "EvdGB_2t_rDO"
      },
      "source": [
        "# Model 1 (with prediction values for test below as follows)\n",
        "       [0.03264719],\n",
        "       [0.04728591],\n",
        "       [0.99933374],\n",
        "       [0.65935117]\n",
        "and with loss: 0.126, accuracy: 0.967"
      ]
    },
    {
      "cell_type": "code",
      "metadata": {
        "colab": {
          "base_uri": "https://localhost:8080/"
        },
        "id": "l17UA-kp22-6",
        "outputId": "2fb55f02-eb96-4dc8-bfa1-df4a79d1a984"
      },
      "source": [
        "# Model\n",
        "model1 = Sequential()\n",
        "model1.add(Embedding(vocab_size, embedding_dim, input_length=max_len))\n",
        "model1.add(GlobalAveragePooling1D())\n",
        "model1.add(Dense(24, activation='relu'))\n",
        "model1.add(Dropout(drop_value))\n",
        "model1.add(Dense(1, activation='sigmoid'))\n",
        "model1.summary()"
      ],
      "execution_count": null,
      "outputs": [
        {
          "output_type": "stream",
          "text": [
            "Model: \"sequential_2\"\n",
            "_________________________________________________________________\n",
            "Layer (type)                 Output Shape              Param #   \n",
            "=================================================================\n",
            "embedding_1 (Embedding)      (None, 50, 16)            8000      \n",
            "_________________________________________________________________\n",
            "global_average_pooling1d (Gl (None, 16)                0         \n",
            "_________________________________________________________________\n",
            "dense_2 (Dense)              (None, 24)                408       \n",
            "_________________________________________________________________\n",
            "dropout_1 (Dropout)          (None, 24)                0         \n",
            "_________________________________________________________________\n",
            "dense_3 (Dense)              (None, 1)                 25        \n",
            "=================================================================\n",
            "Total params: 8,433\n",
            "Trainable params: 8,433\n",
            "Non-trainable params: 0\n",
            "_________________________________________________________________\n"
          ],
          "name": "stdout"
        }
      ]
    },
    {
      "cell_type": "code",
      "metadata": {
        "id": "V4dEpXOO3Mo8"
      },
      "source": [
        "model1.compile(loss='binary_crossentropy',optimizer='adam' ,metrics=['accuracy'])"
      ],
      "execution_count": null,
      "outputs": []
    },
    {
      "cell_type": "code",
      "metadata": {
        "colab": {
          "base_uri": "https://localhost:8080/"
        },
        "id": "VBI7Gu5Y3WBJ",
        "outputId": "3330163e-de18-4a2f-b3af-9f0247963de4"
      },
      "source": [
        "# fitting a dense spam detector model\n",
        "num_epochs = 30\n",
        "early_stop = EarlyStopping(monitor='val_loss', patience=3, min_delta=0.0001)\n",
        "history1 = model1.fit(training_padded, train_labels, epochs=num_epochs, validation_data=(testing_padded, test_labels), callbacks=[early_stop], verbose=1)"
      ],
      "execution_count": null,
      "outputs": [
        {
          "output_type": "stream",
          "text": [
            "Epoch 1/30\n",
            "35/35 [==============================] - 1s 7ms/step - loss: 0.6921 - accuracy: 0.5607 - val_loss: 0.6846 - val_accuracy: 0.9052\n",
            "Epoch 2/30\n",
            "35/35 [==============================] - 0s 4ms/step - loss: 0.6850 - accuracy: 0.5250 - val_loss: 0.6495 - val_accuracy: 0.8685\n",
            "Epoch 3/30\n",
            "35/35 [==============================] - 0s 3ms/step - loss: 0.6692 - accuracy: 0.6241 - val_loss: 0.6329 - val_accuracy: 0.9361\n",
            "Epoch 4/30\n",
            "35/35 [==============================] - 0s 4ms/step - loss: 0.6426 - accuracy: 0.7625 - val_loss: 0.5810 - val_accuracy: 0.9404\n",
            "Epoch 5/30\n",
            "35/35 [==============================] - 0s 4ms/step - loss: 0.5984 - accuracy: 0.8304 - val_loss: 0.5147 - val_accuracy: 0.9490\n",
            "Epoch 6/30\n",
            "35/35 [==============================] - 0s 4ms/step - loss: 0.5388 - accuracy: 0.8705 - val_loss: 0.4522 - val_accuracy: 0.9511\n",
            "Epoch 7/30\n",
            "35/35 [==============================] - 0s 4ms/step - loss: 0.4713 - accuracy: 0.9018 - val_loss: 0.3949 - val_accuracy: 0.9504\n",
            "Epoch 8/30\n",
            "35/35 [==============================] - 0s 4ms/step - loss: 0.4010 - accuracy: 0.9134 - val_loss: 0.3493 - val_accuracy: 0.9504\n",
            "Epoch 9/30\n",
            "35/35 [==============================] - 0s 4ms/step - loss: 0.3413 - accuracy: 0.9214 - val_loss: 0.3030 - val_accuracy: 0.9540\n",
            "Epoch 10/30\n",
            "35/35 [==============================] - 0s 4ms/step - loss: 0.2901 - accuracy: 0.9286 - val_loss: 0.2676 - val_accuracy: 0.9540\n",
            "Epoch 11/30\n",
            "35/35 [==============================] - 0s 4ms/step - loss: 0.2386 - accuracy: 0.9429 - val_loss: 0.2412 - val_accuracy: 0.9533\n",
            "Epoch 12/30\n",
            "35/35 [==============================] - 0s 4ms/step - loss: 0.2107 - accuracy: 0.9420 - val_loss: 0.1859 - val_accuracy: 0.9605\n",
            "Epoch 13/30\n",
            "35/35 [==============================] - 0s 4ms/step - loss: 0.1900 - accuracy: 0.9411 - val_loss: 0.1587 - val_accuracy: 0.9684\n",
            "Epoch 14/30\n",
            "35/35 [==============================] - 0s 4ms/step - loss: 0.1691 - accuracy: 0.9464 - val_loss: 0.1598 - val_accuracy: 0.9677\n",
            "Epoch 15/30\n",
            "35/35 [==============================] - 0s 3ms/step - loss: 0.1559 - accuracy: 0.9491 - val_loss: 0.1450 - val_accuracy: 0.9698\n",
            "Epoch 16/30\n",
            "35/35 [==============================] - 0s 4ms/step - loss: 0.1427 - accuracy: 0.9536 - val_loss: 0.1196 - val_accuracy: 0.9741\n",
            "Epoch 17/30\n",
            "35/35 [==============================] - 0s 4ms/step - loss: 0.1354 - accuracy: 0.9607 - val_loss: 0.1395 - val_accuracy: 0.9684\n",
            "Epoch 18/30\n",
            "35/35 [==============================] - 0s 3ms/step - loss: 0.1253 - accuracy: 0.9571 - val_loss: 0.1269 - val_accuracy: 0.9720\n",
            "Epoch 19/30\n",
            "35/35 [==============================] - 0s 3ms/step - loss: 0.1175 - accuracy: 0.9625 - val_loss: 0.1259 - val_accuracy: 0.9670\n"
          ],
          "name": "stdout"
        }
      ]
    },
    {
      "cell_type": "code",
      "metadata": {
        "colab": {
          "base_uri": "https://localhost:8080/"
        },
        "id": "uQsZC3MD5wB7",
        "outputId": "21822736-4d90-4302-b9db-d39a15086395"
      },
      "source": [
        "accr = model1.evaluate(testing_padded, test_labels)\n",
        "print('Test set\\n Loss: {:0.3f}\\n Accuracy: {:0.3f}'.format(accr[0], accr[1]))"
      ],
      "execution_count": null,
      "outputs": [
        {
          "output_type": "stream",
          "text": [
            "44/44 [==============================] - 0s 1ms/step - loss: 0.1259 - accuracy: 0.9670\n",
            "Test set\n",
            " Loss: 0.126\n",
            " Accuracy: 0.967\n"
          ],
          "name": "stdout"
        }
      ]
    },
    {
      "cell_type": "code",
      "metadata": {
        "colab": {
          "base_uri": "https://localhost:8080/",
          "height": 281
        },
        "id": "YM98MtyIjtEM",
        "outputId": "7a6254ec-4690-4b33-c848-b785e0168e42"
      },
      "source": [
        "plt.title('Loss')\n",
        "plt.plot(history1.history['loss'], label='train')\n",
        "plt.plot(history1.history['val_loss'], label='test')\n",
        "plt.legend()\n",
        "plt.show();"
      ],
      "execution_count": null,
      "outputs": [
        {
          "output_type": "display_data",
          "data": {
            "image/png": "[encoded data removed]",
            "text/plain": [
              "<Figure size 432x288 with 1 Axes>"
            ]
          },
          "metadata": {
            "tags": [],
            "needs_background": "light"
          }
        }
      ]
    },
    {
      "cell_type": "code",
      "metadata": {
        "colab": {
          "base_uri": "https://localhost:8080/",
          "height": 281
        },
        "id": "9HGqGWxBjwK-",
        "outputId": "67d7c59e-f003-4e83-9b86-873e2f5731b2"
      },
      "source": [
        "plt.title('Accuracy')\n",
        "plt.plot(history1.history['accuracy'], label='train')\n",
        "plt.plot(history1.history['val_accuracy'], label='test')\n",
        "plt.legend()\n",
        "plt.show();"
      ],
      "execution_count": null,
      "outputs": [
        {
          "output_type": "display_data",
          "data": {
            "image/png": "[encoded data removed]",
            "text/plain": [
              "<Figure size 432x288 with 1 Axes>"
            ]
          },
          "metadata": {
            "tags": [],
            "needs_background": "light"
          }
        }
      ]
    },
    {
      "cell_type": "markdown",
      "metadata": {
        "id": "XCTtNcFgbZmT"
      },
      "source": [
        "# LSTM params"
      ]
    },
    {
      "cell_type": "code",
      "metadata": {
        "id": "xxbGTMOT_0vh"
      },
      "source": [
        "#LSTM hyperparameters\n",
        "n_lstm = 20\n",
        "drop_lstm =0.2"
      ],
      "execution_count": null,
      "outputs": []
    },
    {
      "cell_type": "markdown",
      "metadata": {
        "id": "DuCeX3RF_yy0"
      },
      "source": [
        "# Model 2 (with prediction values for test below as follows)\n",
        "       [0.00854081],\n",
        "       [0.00838196],\n",
        "       [0.9959605 ],\n",
        "       [0.99555564]\n",
        " with loss: 0.260, accuracy: 0.929"
      ]
    },
    {
      "cell_type": "code",
      "metadata": {
        "id": "mWnPqt2xCFPy"
      },
      "source": [
        "#LSTM Spam detection architecture\n",
        "model2 = Sequential()\n",
        "model2.add(Embedding(vocab_size, embedding_dim, input_length=max_len))\n",
        "model2.add(LSTM(n_lstm, dropout=drop_lstm, return_sequences=True))\n",
        "model2.add(LSTM(n_lstm, dropout=drop_lstm))\n",
        "model2.add(Dense(256, activation='relu'))\n",
        "model2.add(Dropout(0.2))\n",
        "model2.add(Dense(1, activation='sigmoid'))"
      ],
      "execution_count": null,
      "outputs": []
    },
    {
      "cell_type": "code",
      "metadata": {
        "colab": {
          "base_uri": "https://localhost:8080/"
        },
        "id": "rxr2hjmECodm",
        "outputId": "cd42a425-2842-4fc0-8da6-a47d21f6489f"
      },
      "source": [
        "model2.summary()"
      ],
      "execution_count": null,
      "outputs": [
        {
          "output_type": "stream",
          "text": [
            "Model: \"sequential_4\"\n",
            "_________________________________________________________________\n",
            "Layer (type)                 Output Shape              Param #   \n",
            "=================================================================\n",
            "embedding_3 (Embedding)      (None, 50, 16)            8000      \n",
            "_________________________________________________________________\n",
            "lstm_3 (LSTM)                (None, 50, 20)            2960      \n",
            "_________________________________________________________________\n",
            "lstm_4 (LSTM)                (None, 20)                3280      \n",
            "_________________________________________________________________\n",
            "dense_6 (Dense)              (None, 256)               5376      \n",
            "_________________________________________________________________\n",
            "dropout_3 (Dropout)          (None, 256)               0         \n",
            "_________________________________________________________________\n",
            "dense_7 (Dense)              (None, 1)                 257       \n",
            "=================================================================\n",
            "Total params: 19,873\n",
            "Trainable params: 19,873\n",
            "Non-trainable params: 0\n",
            "_________________________________________________________________\n"
          ],
          "name": "stdout"
        }
      ]
    },
    {
      "cell_type": "code",
      "metadata": {
        "id": "0OqygBo0CLsF"
      },
      "source": [
        "model2.compile(loss = 'binary_crossentropy', optimizer = 'adam', metrics=['accuracy'])"
      ],
      "execution_count": null,
      "outputs": []
    },
    {
      "cell_type": "code",
      "metadata": {
        "colab": {
          "base_uri": "https://localhost:8080/"
        },
        "id": "JPae7HvyCOq6",
        "outputId": "6f9c8656-a6a5-4807-96b0-27e059e8df87"
      },
      "source": [
        "num_epochs = 30\n",
        "early_stop = EarlyStopping(monitor='val_loss', patience=2)\n",
        "history2 = model2.fit(training_padded, train_labels, epochs=num_epochs, validation_data=(testing_padded, test_labels), callbacks=[early_stop], verbose=1)"
      ],
      "execution_count": null,
      "outputs": [
        {
          "output_type": "stream",
          "text": [
            "Epoch 1/30\n",
            "35/35 [==============================] - 5s 59ms/step - loss: 0.6935 - accuracy: 0.4946 - val_loss: 0.6868 - val_accuracy: 0.8657\n",
            "Epoch 2/30\n",
            "35/35 [==============================] - 1s 39ms/step - loss: 0.6933 - accuracy: 0.4938 - val_loss: 0.6931 - val_accuracy: 0.8700\n",
            "Epoch 3/30\n",
            "35/35 [==============================] - 1s 38ms/step - loss: 0.6442 - accuracy: 0.6170 - val_loss: 0.2720 - val_accuracy: 0.8728\n",
            "Epoch 4/30\n",
            "35/35 [==============================] - 1s 38ms/step - loss: 0.2481 - accuracy: 0.9277 - val_loss: 0.3225 - val_accuracy: 0.9045\n",
            "Epoch 5/30\n",
            "35/35 [==============================] - 1s 37ms/step - loss: 0.1530 - accuracy: 0.9545 - val_loss: 0.1538 - val_accuracy: 0.9569\n",
            "Epoch 6/30\n",
            "35/35 [==============================] - 1s 38ms/step - loss: 0.1071 - accuracy: 0.9652 - val_loss: 0.1352 - val_accuracy: 0.9461\n",
            "Epoch 7/30\n",
            "35/35 [==============================] - 1s 38ms/step - loss: 0.1123 - accuracy: 0.9625 - val_loss: 0.2338 - val_accuracy: 0.9332\n",
            "Epoch 8/30\n",
            "35/35 [==============================] - 1s 38ms/step - loss: 0.0661 - accuracy: 0.9795 - val_loss: 0.2598 - val_accuracy: 0.9289\n"
          ],
          "name": "stdout"
        }
      ]
    },
    {
      "cell_type": "code",
      "metadata": {
        "colab": {
          "base_uri": "https://localhost:8080/"
        },
        "id": "_R-Wc4egmWr_",
        "outputId": "2b20a77f-91e5-4424-c460-87b506ebabec"
      },
      "source": [
        "accr2 = model2.evaluate(testing_padded, test_labels)\n",
        "print('Test set\\n Loss: {:0.3f}\\n Accuracy: {:0.3f}'.format(accr2[0], accr2[1]))"
      ],
      "execution_count": null,
      "outputs": [
        {
          "output_type": "stream",
          "text": [
            "44/44 [==============================] - 0s 9ms/step - loss: 0.2598 - accuracy: 0.9289\n",
            "Test set\n",
            " Loss: 0.260\n",
            " Accuracy: 0.929\n"
          ],
          "name": "stdout"
        }
      ]
    },
    {
      "cell_type": "code",
      "metadata": {
        "colab": {
          "base_uri": "https://localhost:8080/",
          "height": 281
        },
        "id": "K3XbHDlNmaXx",
        "outputId": "392b2121-5efc-4778-81d7-7b748e344079"
      },
      "source": [
        "plt.title('Loss')\n",
        "plt.plot(history2.history['loss'], label='train')\n",
        "plt.plot(history2.history['val_loss'], label='test')\n",
        "plt.legend()\n",
        "plt.show();"
      ],
      "execution_count": null,
      "outputs": [
        {
          "output_type": "display_data",
          "data": {
            "image/png": "[encoded data removed]",
            "text/plain": [
              "<Figure size 432x288 with 1 Axes>"
            ]
          },
          "metadata": {
            "tags": [],
            "needs_background": "light"
          }
        }
      ]
    },
    {
      "cell_type": "code",
      "metadata": {
        "colab": {
          "base_uri": "https://localhost:8080/",
          "height": 281
        },
        "id": "y9ubYnXxmfHB",
        "outputId": "dc9d0b21-e01a-40d9-c89e-35fe18f69d90"
      },
      "source": [
        "plt.title('Accuracy')\n",
        "plt.plot(history2.history['accuracy'], label='train')\n",
        "plt.plot(history2.history['val_accuracy'], label='test')\n",
        "plt.legend()\n",
        "plt.show();"
      ],
      "execution_count": null,
      "outputs": [
        {
          "output_type": "display_data",
          "data": {
            "image/png": "[encoded data removed]",
            "text/plain": [
              "<Figure size 432x288 with 1 Axes>"
            ]
          },
          "metadata": {
            "tags": [],
            "needs_background": "light"
          }
        }
      ]
    },
    {
      "cell_type": "markdown",
      "metadata": {
        "id": "kJ2lr1EYvwSm"
      },
      "source": [
        "# Model 3 (with prediction values for test below as follows)\n",
        "       [0.0051049 ],\n",
        "       [0.00462869],\n",
        "       [0.99995565],\n",
        "       [0.9872968 ]\n",
        "with loss: 0.103, accuracy: 0.964"
      ]
    },
    {
      "cell_type": "code",
      "metadata": {
        "colab": {
          "base_uri": "https://localhost:8080/"
        },
        "id": "grG1p1luwGbe",
        "outputId": "3876eabc-f02b-4016-e432-fec070d61970"
      },
      "source": [
        "# Biderectional LSTM Spam detection architecture\n",
        "model3 = Sequential()\n",
        "model3.add(Embedding(vocab_size, embedding_dim, input_length=max_len))\n",
        "model3.add(Bidirectional(LSTM(n_lstm, dropout=drop_lstm)))\n",
        "model3.add(Dropout(0.5))\n",
        "model3.add(Dense(64, activation='relu'))\n",
        "model3.add(Dense(1, activation='sigmoid'))\n",
        "model3.summary()"
      ],
      "execution_count": null,
      "outputs": [
        {
          "output_type": "stream",
          "text": [
            "Model: \"sequential_5\"\n",
            "_________________________________________________________________\n",
            "Layer (type)                 Output Shape              Param #   \n",
            "=================================================================\n",
            "embedding_4 (Embedding)      (None, 50, 16)            8000      \n",
            "_________________________________________________________________\n",
            "bidirectional_1 (Bidirection (None, 40)                5920      \n",
            "_________________________________________________________________\n",
            "dropout_4 (Dropout)          (None, 40)                0         \n",
            "_________________________________________________________________\n",
            "dense_8 (Dense)              (None, 64)                2624      \n",
            "_________________________________________________________________\n",
            "dense_9 (Dense)              (None, 1)                 65        \n",
            "=================================================================\n",
            "Total params: 16,609\n",
            "Trainable params: 16,609\n",
            "Non-trainable params: 0\n",
            "_________________________________________________________________\n"
          ],
          "name": "stdout"
        }
      ]
    },
    {
      "cell_type": "code",
      "metadata": {
        "id": "GXaBaYJ3GK6g"
      },
      "source": [
        "model3.compile(loss = 'binary_crossentropy', optimizer = 'adam', metrics=['accuracy'])"
      ],
      "execution_count": null,
      "outputs": []
    },
    {
      "cell_type": "code",
      "metadata": {
        "colab": {
          "base_uri": "https://localhost:8080/"
        },
        "id": "JRy9AREvKVTz",
        "outputId": "57c5f1e4-813b-4455-8074-e7011541d754"
      },
      "source": [
        "# Training\n",
        "num_epochs = 30\n",
        "early_stop = EarlyStopping(monitor='val_loss', patience=2)\n",
        "history3 = model3.fit(training_padded, train_labels, epochs=num_epochs, \n",
        "                    validation_data=(testing_padded, test_labels),callbacks=[early_stop], verbose=1)"
      ],
      "execution_count": null,
      "outputs": [
        {
          "output_type": "stream",
          "text": [
            "Epoch 1/30\n",
            "35/35 [==============================] - 5s 57ms/step - loss: 0.6842 - accuracy: 0.6295 - val_loss: 0.6617 - val_accuracy: 0.8858\n",
            "Epoch 2/30\n",
            "35/35 [==============================] - 1s 28ms/step - loss: 0.5184 - accuracy: 0.8464 - val_loss: 0.2368 - val_accuracy: 0.9246\n",
            "Epoch 3/30\n",
            "35/35 [==============================] - 1s 28ms/step - loss: 0.2476 - accuracy: 0.9152 - val_loss: 0.1053 - val_accuracy: 0.9727\n",
            "Epoch 4/30\n",
            "35/35 [==============================] - 1s 29ms/step - loss: 0.1678 - accuracy: 0.9482 - val_loss: 0.1273 - val_accuracy: 0.9641\n",
            "Epoch 5/30\n",
            "35/35 [==============================] - 1s 28ms/step - loss: 0.1209 - accuracy: 0.9616 - val_loss: 0.0680 - val_accuracy: 0.9777\n",
            "Epoch 6/30\n",
            "35/35 [==============================] - 1s 29ms/step - loss: 0.0988 - accuracy: 0.9643 - val_loss: 0.1488 - val_accuracy: 0.9504\n",
            "Epoch 7/30\n",
            "35/35 [==============================] - 1s 29ms/step - loss: 0.0832 - accuracy: 0.9750 - val_loss: 0.1030 - val_accuracy: 0.9641\n"
          ],
          "name": "stdout"
        }
      ]
    },
    {
      "cell_type": "code",
      "metadata": {
        "colab": {
          "base_uri": "https://localhost:8080/"
        },
        "id": "SvTkuPT0K4V3",
        "outputId": "6476391f-5d22-4bd9-97d2-b6cdd52dfdb8"
      },
      "source": [
        "accr3 = model3.evaluate(testing_padded, test_labels)\n",
        "print('Test set\\n Loss: {:0.3f}\\n Accuracy: {:0.3f}'.format(accr3[0], accr3[1]))"
      ],
      "execution_count": null,
      "outputs": [
        {
          "output_type": "stream",
          "text": [
            "44/44 [==============================] - 0s 7ms/step - loss: 0.1030 - accuracy: 0.9641\n",
            "Test set\n",
            " Loss: 0.103\n",
            " Accuracy: 0.964\n"
          ],
          "name": "stdout"
        }
      ]
    },
    {
      "cell_type": "code",
      "metadata": {
        "colab": {
          "base_uri": "https://localhost:8080/",
          "height": 281
        },
        "id": "jIx-Mkpe53wA",
        "outputId": "95d2b89a-3e46-4478-aee9-2be85e2b60ce"
      },
      "source": [
        "plt.title('Loss')\n",
        "plt.plot(history3.history['loss'], label='train')\n",
        "plt.plot(history3.history['val_loss'], label='test')\n",
        "plt.legend()\n",
        "plt.show();"
      ],
      "execution_count": null,
      "outputs": [
        {
          "output_type": "display_data",
          "data": {
            "image/png": "[encoded data removed]",
            "text/plain": [
              "<Figure size 432x288 with 1 Axes>"
            ]
          },
          "metadata": {
            "tags": [],
            "needs_background": "light"
          }
        }
      ]
    },
    {
      "cell_type": "code",
      "metadata": {
        "colab": {
          "base_uri": "https://localhost:8080/",
          "height": 281
        },
        "id": "mALtYMG96Lp0",
        "outputId": "e3d62e81-e4a4-4b9c-c048-75c955438e87"
      },
      "source": [
        "plt.title('Accuracy')\n",
        "plt.plot(history3.history['accuracy'], label='train')\n",
        "plt.plot(history3.history['val_accuracy'], label='test')\n",
        "plt.legend()\n",
        "plt.show();"
      ],
      "execution_count": null,
      "outputs": [
        {
          "output_type": "display_data",
          "data": {
            "image/png": "[encoded data removed]",
            "text/plain": [
              "<Figure size 432x288 with 1 Axes>"
            ]
          },
          "metadata": {
            "tags": [],
            "needs_background": "light"
          }
        }
      ]
    },
    {
      "cell_type": "markdown",
      "metadata": {
        "id": "MF6XPdYo_vvQ"
      },
      "source": [
        "# Model 4: Using TextVectorization layer (with prediction values for test below as follows) \n",
        "       [3.2508306e-05],\n",
        "       [6.3517690e-04],\n",
        "       [9.9999213e-01],\n",
        "       [9.8503435e-01]\n",
        "with loss: 0.186, accuracy: 0.945\n"
      ]
    },
    {
      "cell_type": "code",
      "metadata": {
        "colab": {
          "base_uri": "https://localhost:8080/",
          "height": 35
        },
        "id": "CEe8qFp-7Dyy",
        "outputId": "35b1383a-3e63-4273-fba5-619b82ab03db"
      },
      "source": [
        "train_data.iloc[1000, 1]"
      ],
      "execution_count": null,
      "outputs": [
        {
          "output_type": "execute_result",
          "data": {
            "application/vnd.google.colaboratory.intrinsic+json": {
              "type": "string"
            },
            "text/plain": [
              "'you please give us connection today itself before  &lt;decimal&gt;  or refund the bill'"
            ]
          },
          "metadata": {
            "tags": []
          },
          "execution_count": 15
        }
      ]
    },
    {
      "cell_type": "code",
      "metadata": {
        "id": "Z7hVFylfA9p9"
      },
      "source": [
        "'''\n",
        "def normalize(text):\n",
        "  remove_regex = f'[{re.escape(string.punctuation)}]'\n",
        "  space_regex = '...'\n",
        "  result = tf.strings.lower(text)\n",
        "  result = tf.strings.regex_replace(result, remove_regex, '')\n",
        "  result = tf.strings.regex_replace(result, space_regex, ' ')\n",
        "  return result\n",
        "'''"
      ],
      "execution_count": null,
      "outputs": []
    },
    {
      "cell_type": "code",
      "metadata": {
        "id": "5HtJTe4-lrhs",
        "colab": {
          "base_uri": "https://localhost:8080/"
        },
        "outputId": "695f9709-055b-49ac-fc9d-1b1b859506c4"
      },
      "source": [
        "### Text encoder #1\n",
        "#BUFFER_SIZE = 10000\n",
        "#BATCH_SIZE = 64\n",
        "#train_data = train_data['msg'].shuffle(BUFFER_SIZE).prefetch(tf.data.AUTOTUNE)\n",
        "#test_data = test_data['msg'].batch(BATCH_SIZE).prefetch(tf.data.AUTOTONE)\n",
        "VOCAB_SIZE = 1000\n",
        "encoder = keras.layers.experimental.preprocessing.TextVectorization(max_tokens=VOCAB_SIZE, output_mode='int', output_sequence_length=max_len)\n",
        "encoder.adapt(msg_train_df['message'].tolist()) # set layer's vocabulary\n",
        "\n",
        "\n",
        "# to take a look at the vocabulary\n",
        "vocab = np.array(encoder.get_vocabulary())\n",
        "vocab[:20]"
      ],
      "execution_count": null,
      "outputs": [
        {
          "output_type": "execute_result",
          "data": {
            "text/plain": [
              "array(['', '[UNK]', 'call', 'u', 'free', 'ur', 'txt', 'p', 'get', 'text',\n",
              "       'mobile', 'stop', 'reply', 'claim', 'im', 'go', 'send', 'new',\n",
              "       'nokia', 'prize'], dtype='<U21')"
            ]
          },
          "metadata": {
            "tags": []
          },
          "execution_count": 71
        }
      ]
    },
    {
      "cell_type": "code",
      "metadata": {
        "id": "dzl5J865oy41"
      },
      "source": [
        "## output_dim = input_dim ** 0.25 ~= 9 based on stackexchange"
      ],
      "execution_count": null,
      "outputs": []
    },
    {
      "cell_type": "code",
      "metadata": {
        "colab": {
          "base_uri": "https://localhost:8080/"
        },
        "id": "kouE7FKwub_h",
        "outputId": "6527316f-168b-40f4-ec47-bd876322bd48"
      },
      "source": [
        "#MAX_TOKENS_NUM = 5000  # Maximum vocab size.\n",
        "#MAX_SEQUENCE_LEN = 40  # Sequence length to pad the outputs to.\n",
        "#EMBEDDING_DIMS = 100\n",
        "\n",
        "model = Sequential()\n",
        "model.add(InputLayer(input_shape=(1,), dtype=tf.string))\n",
        "model.add(encoder)\n",
        "model.add(Embedding(input_dim=len(encoder.get_vocabulary()), output_dim=embedding_dim, mask_zero=True)) # embedding dim change to 64 if needed\n",
        "model.add(Bidirectional(LSTM(64, dropout=drop_lstm, return_sequences=True)))\n",
        "model.add(Bidirectional(LSTM(32, dropout=drop_lstm)))\n",
        "model.add(Dense(64, activation='relu'))\n",
        "model.add(Dropout(0.5))\n",
        "model.add(Dense(1, activation='sigmoid'))\n",
        "model.summary()"
      ],
      "execution_count": null,
      "outputs": [
        {
          "output_type": "stream",
          "text": [
            "Model: \"sequential_10\"\n",
            "_________________________________________________________________\n",
            "Layer (type)                 Output Shape              Param #   \n",
            "=================================================================\n",
            "module_wrapper_10 (ModuleWra (None, 50)                0         \n",
            "_________________________________________________________________\n",
            "embedding_10 (Embedding)     (None, 50, 16)            16000     \n",
            "_________________________________________________________________\n",
            "bidirectional_13 (Bidirectio (None, 50, 128)           41472     \n",
            "_________________________________________________________________\n",
            "bidirectional_14 (Bidirectio (None, 64)                41216     \n",
            "_________________________________________________________________\n",
            "dense_19 (Dense)             (None, 64)                4160      \n",
            "_________________________________________________________________\n",
            "dropout_10 (Dropout)         (None, 64)                0         \n",
            "_________________________________________________________________\n",
            "dense_20 (Dense)             (None, 1)                 65        \n",
            "=================================================================\n",
            "Total params: 102,913\n",
            "Trainable params: 102,913\n",
            "Non-trainable params: 0\n",
            "_________________________________________________________________\n"
          ],
          "name": "stdout"
        }
      ]
    },
    {
      "cell_type": "code",
      "metadata": {
        "id": "0mVRi650DSpx"
      },
      "source": [
        "model.compile(loss = 'binary_crossentropy', optimizer = 'adam', metrics=['accuracy'])"
      ],
      "execution_count": null,
      "outputs": []
    },
    {
      "cell_type": "code",
      "metadata": {
        "id": "frZIYAjJVHke"
      },
      "source": [
        "train_dataset, train_label = msg_train_df['message'], msg_train_df['msg_type']\n",
        "test_dataset, test_label = test_data['message'], test_data['msg_type']"
      ],
      "execution_count": null,
      "outputs": []
    },
    {
      "cell_type": "code",
      "metadata": {
        "colab": {
          "base_uri": "https://localhost:8080/"
        },
        "id": "6Rrtl3GmDXi6",
        "outputId": "d35b1e8f-ec11-4350-aafa-0a42a7add20f"
      },
      "source": [
        "# Training\n",
        "num_epochs = 30\n",
        "early_stop = EarlyStopping(monitor='val_loss', patience=2)\n",
        "history = model.fit(train_dataset, train_label, epochs=num_epochs, \n",
        "                    validation_data=(test_dataset, test_label),callbacks =[early_stop], verbose=1)"
      ],
      "execution_count": null,
      "outputs": [
        {
          "output_type": "stream",
          "text": [
            "Epoch 1/30\n",
            "35/35 [==============================] - 53s 315ms/step - loss: 0.6305 - accuracy: 0.5777 - val_loss: 0.5955 - val_accuracy: 0.9059\n",
            "Epoch 2/30\n",
            "35/35 [==============================] - 6s 163ms/step - loss: 0.3330 - accuracy: 0.9357 - val_loss: 0.3004 - val_accuracy: 0.9540\n",
            "Epoch 3/30\n",
            "35/35 [==============================] - 6s 162ms/step - loss: 0.1732 - accuracy: 0.9634 - val_loss: 0.2292 - val_accuracy: 0.9562\n",
            "Epoch 4/30\n",
            "35/35 [==============================] - 6s 165ms/step - loss: 0.0967 - accuracy: 0.9795 - val_loss: 0.1682 - val_accuracy: 0.9576\n",
            "Epoch 5/30\n",
            "35/35 [==============================] - 6s 165ms/step - loss: 0.0539 - accuracy: 0.9866 - val_loss: 0.1570 - val_accuracy: 0.9634\n",
            "Epoch 6/30\n",
            "35/35 [==============================] - 6s 171ms/step - loss: 0.0309 - accuracy: 0.9955 - val_loss: 0.1196 - val_accuracy: 0.9720\n",
            "Epoch 7/30\n",
            "35/35 [==============================] - 6s 172ms/step - loss: 0.0238 - accuracy: 0.9937 - val_loss: 0.1775 - val_accuracy: 0.9634\n",
            "Epoch 8/30\n",
            "35/35 [==============================] - 6s 174ms/step - loss: 0.0405 - accuracy: 0.9911 - val_loss: 0.1859 - val_accuracy: 0.9454\n"
          ],
          "name": "stdout"
        }
      ]
    },
    {
      "cell_type": "code",
      "metadata": {
        "id": "0CN0Gh_mDcKd",
        "colab": {
          "base_uri": "https://localhost:8080/"
        },
        "outputId": "83045951-40da-402d-8b6d-b5eae46bd62b"
      },
      "source": [
        "accr = model.evaluate(test_dataset, test_label)\n",
        "print('Test set\\n Loss: {:0.3f}\\n Accuracy: {:0.3f}'.format(accr[0], accr[1]))"
      ],
      "execution_count": null,
      "outputs": [
        {
          "output_type": "stream",
          "text": [
            "44/44 [==============================] - 1s 32ms/step - loss: 0.1859 - accuracy: 0.9454\n",
            "Test set\n",
            " Loss: 0.186\n",
            " Accuracy: 0.945\n"
          ],
          "name": "stdout"
        }
      ]
    },
    {
      "cell_type": "code",
      "metadata": {
        "id": "HUh8nAuMDiKZ",
        "colab": {
          "base_uri": "https://localhost:8080/",
          "height": 281
        },
        "outputId": "8c6c7241-d30a-4731-f4cd-b1b3822bcada"
      },
      "source": [
        "plt.title('Loss')\n",
        "plt.plot(history.history['loss'], label='train')\n",
        "plt.plot(history.history['val_loss'], label='test')\n",
        "plt.legend()\n",
        "plt.show();"
      ],
      "execution_count": null,
      "outputs": [
        {
          "output_type": "display_data",
          "data": {
            "image/png": "[encoded data removed]",
            "text/plain": [
              "<Figure size 432x288 with 1 Axes>"
            ]
          },
          "metadata": {
            "tags": [],
            "needs_background": "light"
          }
        }
      ]
    },
    {
      "cell_type": "code",
      "metadata": {
        "id": "AKAM_gi_DpQF",
        "colab": {
          "base_uri": "https://localhost:8080/",
          "height": 281
        },
        "outputId": "e4f8cde4-f6ac-4452-b8f0-be04894ab831"
      },
      "source": [
        "plt.title('Accuracy')\n",
        "plt.plot(history.history['accuracy'], label='train')\n",
        "plt.plot(history.history['val_accuracy'], label='test')\n",
        "plt.legend()\n",
        "plt.show();"
      ],
      "execution_count": null,
      "outputs": [
        {
          "output_type": "display_data",
          "data": {
            "image/png": "[encoded data removed]",
            "text/plain": [
              "<Figure size 432x288 with 1 Axes>"
            ]
          },
          "metadata": {
            "tags": [],
            "needs_background": "light"
          }
        }
      ]
    },
    {
      "cell_type": "code",
      "metadata": {
        "colab": {
          "base_uri": "https://localhost:8080/"
        },
        "id": "dAJ_rKXKWSxE",
        "outputId": "eaff0a26-7cae-4531-d2a5-b7cb89fd3593"
      },
      "source": [
        "predictions = model.predict(np.array(predict_msg))\n",
        "print(predictions)"
      ],
      "execution_count": null,
      "outputs": [
        {
          "output_type": "stream",
          "text": [
            "[[3.2508306e-05]\n",
            " [6.3517690e-04]\n",
            " [9.9999213e-01]\n",
            " [9.8503435e-01]]\n"
          ],
          "name": "stdout"
        }
      ]
    },
    {
      "cell_type": "code",
      "metadata": {
        "colab": {
          "base_uri": "https://localhost:8080/"
        },
        "id": "V2iQ25XAaTAb",
        "outputId": "617fb537-610f-4f22-e2c8-f3cf0421cac3"
      },
      "source": [
        "def predict_message(pred_text):\n",
        "  pred = model.predict(np.array([pred_text])).astype(\"float32\").item()\n",
        "  labels = ['ham', 'spam']\n",
        "  prediction = [pred, labels[round(pred)]]\n",
        "  return prediction\n",
        "\n",
        "#pred_text = \"how are you doing today?\"\n",
        "pred_text = \"sale today! to stop texts call 98912460324\"\n",
        "\n",
        "prediction = predict_message(pred_text)\n",
        "print(prediction)"
      ],
      "execution_count": null,
      "outputs": [
        {
          "output_type": "stream",
          "text": [
            "[0.9850343465805054, 'spam']\n"
          ],
          "name": "stdout"
        }
      ]
    },
    {
      "cell_type": "markdown",
      "metadata": {
        "id": "5S6vLC3gkNWf"
      },
      "source": [
        "# Test/Prediction"
      ]
    },
    {
      "cell_type": "code",
      "metadata": {
        "id": "e_0AuOYBLSHM"
      },
      "source": [
        "predict_msg = [\"Go until jurong point, crazy.. Available only in bugis n great world la e buffet... Cine there got amore wat...\",\n",
        "          \"Ok lar... Joking wif u oni...\",\n",
        "          \"Free entry in 2 a wkly comp to win FA Cup final tkts 21st May 2005. Text FA to 87121 to receive entry question(std txt rate)T&C's apply 08452810075over18's\",\n",
        "          \"sale today! to stop texts call 98912460324\"]"
      ],
      "execution_count": null,
      "outputs": []
    },
    {
      "cell_type": "code",
      "metadata": {
        "colab": {
          "base_uri": "https://localhost:8080/"
        },
        "id": "qXYAtbJoKgvy",
        "outputId": "01722895-5398-446c-f7b2-96dc5617ac26"
      },
      "source": [
        "# applying conditional value of 0.5 to get 0 or 1 as output\n",
        "sms = [\"We know someone who you know that fancies you. Call 09058097218 to find out who. POBox 6, LS15HB \"]\n",
        "sms_proc = tokenizer.texts_to_sequences(sms)\n",
        "sms_proc = pad_sequences(sms_proc, maxlen=max_len, padding=padding_type, truncating=trunc_type)\n",
        "pred = (model3.predict(sms_proc) > 0.5).astype(\"int32\").item() # change model accordingly to test\n",
        "print(pred)"
      ],
      "execution_count": null,
      "outputs": [
        {
          "output_type": "stream",
          "text": [
            "1\n"
          ],
          "name": "stdout"
        }
      ]
    },
    {
      "cell_type": "code",
      "metadata": {
        "id": "J9tD9yACG6M9",
        "colab": {
          "base_uri": "https://localhost:8080/"
        },
        "outputId": "e7debd10-cfec-4e8c-9a66-e6c1418d51be"
      },
      "source": [
        "# function to predict messages based on model\n",
        "# (should return list containing prediction and label, ex. [0.008318834938108921, 'ham'])\n",
        "# For model 1, 2 and 3\n",
        "def predict_message(pred_text):\n",
        "  sms_proc = tokenizer.texts_to_sequences([pred_text])\n",
        "  sms_proc = pad_sequences(sms_proc, maxlen=max_len, padding=padding_type, truncating=trunc_type)\n",
        "  pred = model3.predict(sms_proc).astype(\"float32\").item()\n",
        "  labels = ['ham', 'spam']\n",
        "  prediction = [pred, labels[round(pred)]]\n",
        "  return prediction\n",
        "\n",
        "pred_text = \"how are you doing today?\"\n",
        "#pred_text = \"sale today! to stop texts call 98912460324\"\n",
        "\n",
        "prediction = predict_message(pred_text)\n",
        "print(prediction)"
      ],
      "execution_count": null,
      "outputs": [
        {
          "output_type": "stream",
          "text": [
            "[0.011980623006820679, 'ham']\n"
          ],
          "name": "stdout"
        }
      ]
    },
    {
      "cell_type": "code",
      "metadata": {
        "id": "Dxotov85SjsC",
        "colab": {
          "base_uri": "https://localhost:8080/"
        },
        "outputId": "26007b33-8042-447c-ecba-1117dccdc866"
      },
      "source": [
        "# Run this cell to test your function and model. Do not modify contents.\n",
        "def test_predictions():\n",
        "  test_messages = [\"how are you doing today\",\n",
        "                   \"sale today! to stop texts call 98912460324\",\n",
        "                   \"i dont want to go. can we try it a different day? available sat\",\n",
        "                   \"our new mobile video service is live. just install on your phone to start watching.\",\n",
        "                   \"you have won £1000 cash! call to claim your prize.\",\n",
        "                   \"i'll bring it tomorrow. don't forget the milk.\",\n",
        "                   \"wow, is your arm alright. that happened to me one time too\"\n",
        "                  ]\n",
        "\n",
        "  test_answers = [\"ham\", \"spam\", \"ham\", \"spam\", \"spam\", \"ham\", \"ham\"]\n",
        "  passed = True\n",
        "\n",
        "  for msg, ans in zip(test_messages, test_answers):\n",
        "    prediction = predict_message(msg)\n",
        "    if prediction[1] != ans:\n",
        "      passed = False\n",
        "\n",
        "  if passed:\n",
        "    print(\"You passed the challenge. Great job!\")\n",
        "  else:\n",
        "    print(\"You haven't passed yet. Keep trying.\")\n",
        "\n",
        "test_predictions()\n"
      ],
      "execution_count": null,
      "outputs": [
        {
          "output_type": "stream",
          "text": [
            "You passed the challenge. Great job!\n"
          ],
          "name": "stdout"
        }
      ]
    }
  ]
}